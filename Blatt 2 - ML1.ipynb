{
 "cells": [
  {
   "cell_type": "markdown",
   "metadata": {},
   "source": [
    "---"
   ]
  },
  {
   "cell_type": "markdown",
   "metadata": {},
   "source": [
    "[//]: # \"Header\"\n",
    "\n",
    "<p style=\"text-align: left;  font-size:18pt; LINE-HEIGHT:30px;\">\n",
    "    <span style=\"float: left\">\n",
    "     Technische Hochschule Ingolstadt<br>\n",
    "     Prof. Dr. Sören Gröttrup, Laura Dietl\n",
    "    </span>\n",
    "    <span style=\"float: right;\">\n",
    "       Machine Learning 1<br>\n",
    "        <span style=\"float: right;\">WS 24/25</span>\n",
    "    </span>\n",
    "</p>"
   ]
  },
  {
   "cell_type": "markdown",
   "metadata": {},
   "source": [
    "[//]: # \"Header Aufgabenblatt\"\n",
    "<br>\n",
    "<p style=\"text-align: center;  font-size:18pt; LINE-HEIGHT:30px;\">\n",
    "     <span style=\"font-weight: bold;\">Aufgabenblatt 2</span><br>\n",
    "     Themen: Polynomiale Regression, Kostenfunktion, Gradientenabstiegsverfahren<br>\n",
    "     Abgabetermin: 03.11.2024, 23:59 Uhr<br>\n",
    "     Punkte: 25 (+4)\n",
    "</p>\n"
   ]
  },
  {
   "cell_type": "markdown",
   "metadata": {},
   "source": [
    "---"
   ]
  },
  {
   "cell_type": "markdown",
   "metadata": {},
   "source": [
    "**Namen:** Elkhan Alimatov (ela0016), Mazen Zidan (maz4669) , Hamdah Mariyam (ham2119)"
   ]
  },
  {
   "cell_type": "markdown",
   "metadata": {},
   "source": [
    "---"
   ]
  },
  {
   "cell_type": "markdown",
   "metadata": {},
   "source": [
    "# 1. Polynomiale Regression\n"
   ]
  },
  {
   "cell_type": "markdown",
   "metadata": {},
   "source": [
    "### Daten\n",
    "Der Datensatz `pressure_train.csv` (auf der Moodle-Seite des Praktikums (https://moodle.thi.de/course/view.php?id=6824)) enthält gemessene Werte der Temperatur (in Celsius) und des Dampfdrucks von Quecksilber. Plottet man die beiben Variablen sieht man, dass kein linearer Zusammenhang besteht.\n",
    "\n",
    "![temp_pressur](Bilder/temp_pressure.png)\n",
    "\n"
   ]
  },
  {
   "cell_type": "markdown",
   "metadata": {},
   "source": [
    "### Root Mean Squared Error (RMSE)\n",
    "Der Root Mean Squared Error ist ein Standardmaß zur validierung der Güte eines Regressionsmodells. Seien $y^{(1)},...,y^{(n)}$ die wahren Werte und $f(x^{(1)}),...,f(x^{(n)})$ die Vorhersagen der Regression, dann ist der RMSE gegeben durch\n",
    "\n",
    "$$RMSE = \\sqrt{\\frac{1}{n}\\sum_{i=1}^n \\left(y^{(i)} - f(x^{(i)})\\right)^2}.$$\n",
    "\n",
    "Der RMSE ist also nichts anderes als die Wurzel aus den mittleren quadratischen Fehlern, oder die Wurzel aus der quadratischen Kostenfunktion."
   ]
  },
  {
   "cell_type": "markdown",
   "metadata": {},
   "source": [
    "## Aufgabe 1.1 [8 Punkte]\n",
    "In dieser Aufgabe sollen Sie mittels **polynomialer Regression** auf den Daten aus dem Datensatz `pressure_train.csv` den Zusammenhang zwischen Dampfdruck aus der Temperatur modellieren.\n",
    "1. Führen Sie explorative Analysen auf dem Datensatz `pressure_train.csv` durch (z.B. Korrelationsanalysen oder grafische Darstellungen), um zu entscheiden welchen Grad der polynomialen Regression Sie verwenden wollen. Begründen Sie ihre Wahl. D.h., wollen Sie ein Polynom mit dem Grad 2,3,4 oder höher an die Daten anpassen?\n",
    "1. Erstellen Sie ein plonymielles Regressionsmodell `poly_reg` mit dem in 1.) ermittelten Grad.\n",
    "1. Wie groß ist der **Root Mean Squared Error (RMSE)** auf den Daten `pressure_train.csv`? _Hinweis_: Verwenden Sie die Funktion `from sklearn.metrics import mean_squared_error`.\n",
    "1. Importieren Sie den Testdatensatz `pressure_teset.csv`. Wie groß ist der Root Mean Squared Error (RMSE) auf den Testdaten? _Benchmark für den RMSE auf den Testdaten ist: 5.5_. Versuchen Sie ein Model mit einem besseren RMSE zu erstellen!"
   ]
  },
  {
   "cell_type": "code",
   "execution_count": 84,
   "metadata": {},
   "outputs": [],
   "source": [
    "## Packages\n",
    "import pandas as pd\n",
    "import numpy as np\n",
    "%matplotlib inline\n",
    "import matplotlib.pyplot as plt\n",
    "plt.style.use('ggplot')"
   ]
  },
  {
   "cell_type": "markdown",
   "metadata": {},
   "source": [
    "### Lösung Aufgabe 1.1"
   ]
  },
  {
   "cell_type": "markdown",
   "metadata": {},
   "source": [
    "#### Teil 1"
   ]
  },
  {
   "cell_type": "code",
   "execution_count": 87,
   "metadata": {},
   "outputs": [
    {
     "name": "stdout",
     "output_type": "stream",
     "text": [
      "<class 'pandas.core.frame.DataFrame'>\n",
      "RangeIndex: 19 entries, 0 to 18\n",
      "Data columns (total 2 columns):\n",
      " #   Column       Non-Null Count  Dtype  \n",
      "---  ------       --------------  -----  \n",
      " 0   temperature  19 non-null     int64  \n",
      " 1   pressure     19 non-null     float64\n",
      "dtypes: float64(1), int64(1)\n",
      "memory usage: 436.0 bytes\n",
      "   temperature  pressure\n",
      "0            0    0.0002\n",
      "1           20    0.0012\n",
      "2           40    0.0060\n",
      "3           60    0.0300\n",
      "4           80    0.0900\n",
      "       temperature    pressure\n",
      "count    19.000000   19.000000\n",
      "mean    180.000000  124.336705\n",
      "std     112.546287  224.622540\n",
      "min       0.000000    0.000200\n",
      "25%      90.000000    0.180000\n",
      "50%     180.000000    8.800000\n",
      "75%     270.000000  126.500000\n",
      "max     360.000000  806.000000\n"
     ]
    },
    {
     "data": {
      "image/png": "[encoded data removed]",
      "text/plain": [
       "<Figure size 800x600 with 1 Axes>"
      ]
     },
     "metadata": {},
     "output_type": "display_data"
    }
   ],
   "source": [
    "## Lösung der Aufgabe 1.1\n",
    "\n",
    "#### Code here ####\n",
    "\n",
    "# Teil 1\n",
    "\n",
    "pressure_train = pd.read_csv(\"C:\\\\Users\\\\99470\\\\Downloads\\\\Aufgabenblatt 2\\\\Daten\\\\pressure_train.csv\")\n",
    "\n",
    "pressure_train.info()\n",
    "print(pressure_train.head())\n",
    "print(pressure_train.describe())\n",
    "\n",
    "plt.figure(figsize=(8, 6))\n",
    "plt.scatter(pressure_train['temperature'], pressure_train['pressure'], color='blue')\n",
    "plt.title('Temperature vs Pressure')\n",
    "plt.xlabel('Temperature')\n",
    "plt.ylabel('Pressure')\n",
    "plt.grid(True)\n",
    "plt.show()\n",
    "\n",
    "# Ausgehend von der Form des Streudiagramms, die auf ein potenziell exponentielles Wachstum hindeutet, \n",
    "# werde ich mit einem Polynom vom Grad 4 experimentieren, um die beste Anpassung zu finden\n",
    "\n"
   ]
  },
  {
   "cell_type": "markdown",
   "metadata": {},
   "source": [
    "#### Teil 2"
   ]
  },
  {
   "cell_type": "code",
   "execution_count": 89,
   "metadata": {},
   "outputs": [
    {
     "data": {
      "text/html": [
       "<style>#sk-container-id-2 {color: black;}#sk-container-id-2 pre{padding: 0;}#sk-container-id-2 div.sk-toggleable {background-color: white;}#sk-container-id-2 label.sk-toggleable__label {cursor: pointer;display: block;width: 100%;margin-bottom: 0;padding: 0.3em;box-sizing: border-box;text-align: center;}#sk-container-id-2 label.sk-toggleable__label-arrow:before {content: \"▸\";float: left;margin-right: 0.25em;color: #696969;}#sk-container-id-2 label.sk-toggleable__label-arrow:hover:before {color: black;}#sk-container-id-2 div.sk-estimator:hover label.sk-toggleable__label-arrow:before {color: black;}#sk-container-id-2 div.sk-toggleable__content {max-height: 0;max-width: 0;overflow: hidden;text-align: left;background-color: #f0f8ff;}#sk-container-id-2 div.sk-toggleable__content pre {margin: 0.2em;color: black;border-radius: 0.25em;background-color: #f0f8ff;}#sk-container-id-2 input.sk-toggleable__control:checked~div.sk-toggleable__content {max-height: 200px;max-width: 100%;overflow: auto;}#sk-container-id-2 input.sk-toggleable__control:checked~label.sk-toggleable__label-arrow:before {content: \"▾\";}#sk-container-id-2 div.sk-estimator input.sk-toggleable__control:checked~label.sk-toggleable__label {background-color: #d4ebff;}#sk-container-id-2 div.sk-label input.sk-toggleable__control:checked~label.sk-toggleable__label {background-color: #d4ebff;}#sk-container-id-2 input.sk-hidden--visually {border: 0;clip: rect(1px 1px 1px 1px);clip: rect(1px, 1px, 1px, 1px);height: 1px;margin: -1px;overflow: hidden;padding: 0;position: absolute;width: 1px;}#sk-container-id-2 div.sk-estimator {font-family: monospace;background-color: #f0f8ff;border: 1px dotted black;border-radius: 0.25em;box-sizing: border-box;margin-bottom: 0.5em;}#sk-container-id-2 div.sk-estimator:hover {background-color: #d4ebff;}#sk-container-id-2 div.sk-parallel-item::after {content: \"\";width: 100%;border-bottom: 1px solid gray;flex-grow: 1;}#sk-container-id-2 div.sk-label:hover label.sk-toggleable__label {background-color: #d4ebff;}#sk-container-id-2 div.sk-serial::before {content: \"\";position: absolute;border-left: 1px solid gray;box-sizing: border-box;top: 0;bottom: 0;left: 50%;z-index: 0;}#sk-container-id-2 div.sk-serial {display: flex;flex-direction: column;align-items: center;background-color: white;padding-right: 0.2em;padding-left: 0.2em;position: relative;}#sk-container-id-2 div.sk-item {position: relative;z-index: 1;}#sk-container-id-2 div.sk-parallel {display: flex;align-items: stretch;justify-content: center;background-color: white;position: relative;}#sk-container-id-2 div.sk-item::before, #sk-container-id-2 div.sk-parallel-item::before {content: \"\";position: absolute;border-left: 1px solid gray;box-sizing: border-box;top: 0;bottom: 0;left: 50%;z-index: -1;}#sk-container-id-2 div.sk-parallel-item {display: flex;flex-direction: column;z-index: 1;position: relative;background-color: white;}#sk-container-id-2 div.sk-parallel-item:first-child::after {align-self: flex-end;width: 50%;}#sk-container-id-2 div.sk-parallel-item:last-child::after {align-self: flex-start;width: 50%;}#sk-container-id-2 div.sk-parallel-item:only-child::after {width: 0;}#sk-container-id-2 div.sk-dashed-wrapped {border: 1px dashed gray;margin: 0 0.4em 0.5em 0.4em;box-sizing: border-box;padding-bottom: 0.4em;background-color: white;}#sk-container-id-2 div.sk-label label {font-family: monospace;font-weight: bold;display: inline-block;line-height: 1.2em;}#sk-container-id-2 div.sk-label-container {text-align: center;}#sk-container-id-2 div.sk-container {/* jupyter's `normalize.less` sets `[hidden] { display: none; }` but bootstrap.min.css set `[hidden] { display: none !important; }` so we also need the `!important` here to be able to override the default hidden behavior on the sphinx rendered scikit-learn.org. See: https://github.com/scikit-learn/scikit-learn/issues/21755 */display: inline-block !important;position: relative;}#sk-container-id-2 div.sk-text-repr-fallback {display: none;}</style><div id=\"sk-container-id-2\" class=\"sk-top-container\"><div class=\"sk-text-repr-fallback\"><pre>LinearRegression()</pre><b>In a Jupyter environment, please rerun this cell to show the HTML representation or trust the notebook. <br />On GitHub, the HTML representation is unable to render, please try loading this page with nbviewer.org.</b></div><div class=\"sk-container\" hidden><div class=\"sk-item\"><div class=\"sk-estimator sk-toggleable\"><input class=\"sk-toggleable__control sk-hidden--visually\" id=\"sk-estimator-id-2\" type=\"checkbox\" checked><label for=\"sk-estimator-id-2\" class=\"sk-toggleable__label sk-toggleable__label-arrow\">LinearRegression</label><div class=\"sk-toggleable__content\"><pre>LinearRegression()</pre></div></div></div></div></div>"
      ],
      "text/plain": [
       "LinearRegression()"
      ]
     },
     "execution_count": 89,
     "metadata": {},
     "output_type": "execute_result"
    }
   ],
   "source": [
    "#### Code here ####\n",
    "\n",
    "# Teil 2\n",
    "\n",
    "from sklearn.preprocessing import PolynomialFeatures\n",
    "from sklearn.linear_model import LinearRegression\n",
    "\n",
    "\n",
    "\n",
    "# Prepare the data for polynomial regression (degree 4)\n",
    "X_train = pressure_train[['temperature']].values\n",
    "y_train = pressure_train['pressure'].values\n",
    "\n",
    "# Transform features to polynomial features (degree 4)\n",
    "poly_features = PolynomialFeatures(degree=4)\n",
    "X_train_poly = poly_features.fit_transform(X_train)\n",
    "\n",
    "# Fit the polynomial regression model\n",
    "poly_reg_model = LinearRegression()\n",
    "poly_reg_model.fit(X_train_poly, y_train)\n",
    "\n"
   ]
  },
  {
   "cell_type": "markdown",
   "metadata": {},
   "source": [
    "#### Teil 3"
   ]
  },
  {
   "cell_type": "code",
   "execution_count": 91,
   "metadata": {},
   "outputs": [
    {
     "name": "stdout",
     "output_type": "stream",
     "text": [
      "RMSE(train): 4.618052667536897\n"
     ]
    }
   ],
   "source": [
    "#### Code here ####\n",
    "\n",
    "# Teil 3\n",
    "\n",
    "from sklearn.metrics import mean_squared_error\n",
    "\n",
    "# Predict on the training set and calculate RMSE\n",
    "y_train_pred = poly_reg_model.predict(X_train_poly)\n",
    "rmse_train = np.sqrt(mean_squared_error(y_train, y_train_pred))\n",
    "\n",
    "print('RMSE(train):',rmse_train)"
   ]
  },
  {
   "cell_type": "markdown",
   "metadata": {},
   "source": [
    "#### Teil 4"
   ]
  },
  {
   "cell_type": "code",
   "execution_count": 93,
   "metadata": {},
   "outputs": [
    {
     "name": "stdout",
     "output_type": "stream",
     "text": [
      "RMSE(test): 5.308521483140235\n"
     ]
    }
   ],
   "source": [
    "#### Code here ####\n",
    "\n",
    "# Teil 4\n",
    "\n",
    "pressure_test = pd.read_csv(\"C:\\\\Users\\\\99470\\\\Downloads\\\\Aufgabenblatt 2\\\\Daten\\\\pressure_test.csv\")\n",
    "\n",
    "# prepare test data\n",
    "X_test = pressure_test[['temperature']].values\n",
    "y_test = pressure_test['pressure'].values\n",
    "\n",
    "# Transform test features to polynomial features (degree 4 as determined from training)\n",
    "poly_features = PolynomialFeatures(degree=4)\n",
    "X_test_poly = poly_features.fit_transform(X_test)\n",
    "\n",
    "# Predict on the test set and calculate RMSE\n",
    "y_test_pred = poly_reg_model.predict(X_test_poly)\n",
    "rmse_test = np.sqrt(mean_squared_error(y_test, y_test_pred))\n",
    "\n",
    "print('RMSE(test):',rmse_test)"
   ]
  },
  {
   "cell_type": "markdown",
   "metadata": {},
   "source": [
    "# 2. Gradientenabstiegsverfahren für die logistische Regression"
   ]
  },
  {
   "cell_type": "markdown",
   "metadata": {},
   "source": [
    "Bei einer logistischen Regression wird die Wahrscheinlichkeit für die Zugehörigkeit zur Klaase 1 prognostiziert durch:\n",
    "$$p(1|x) = \\frac{1}{1+\\exp(-f(x))}$$\n",
    "mit \n",
    "$$f(x) = \\beta_0 + \\beta_1 x_1 + ... + \\beta_m x_m.$$\n",
    "Die Standard-Kostenfunktion zur Bewertung der Modellgüte ist die **Cross-Entropy**\n",
    "$$C(\\beta)=-\\frac1n\\sum_{i=1}^n y^{(i)}\\ln(p(1|x))+(1-y^{(i)})\\ln(1-p(1|x)),$$\n",
    "wobei $n$ die Größe des Trainingsdatensatzes beschreibt und $y^{(i)}\\in\\{0,1\\}$.\n",
    "\n",
    "Ein iteratives Verfahren zur Ermittlung der optimalen Parameter $\\beta_0,...,\\beta_m$ ist das Gradientenabstiegsverfahren. In jedem Iterationsschritt werden die Parameter dabei nach der folgenden Vorschrift so lange angepasst, bis sich Konvergenz einstellt oder die maximale Anzahl an Iterationen erreicht ist\n",
    "$$\\beta = \\beta - \\alpha \\nabla C(\\beta)$$\n",
    "bzw. für jedes $j=0,...,m$\n",
    "$$\\beta_j = \\beta_j - \\alpha \\frac{d}{d\\beta_j} C(\\beta).$$"
   ]
  },
  {
   "cell_type": "markdown",
   "metadata": {},
   "source": [
    "## Aufgabe 2.1 (Berechnung des Gradienten) [4 Punkte]\n",
    "Berechnen Sie den Gradienten $\\nabla C(\\beta)$ für die Kostenfunktion.\n",
    "\n",
    "_Hinweis_: Benutzen Sie die Kettenregel zur Bestimmung der Ableitungen. D.h. bestimmen Sie nacheinander die Ableitungen\n",
    "* $\\frac{d}{d p} L(y,p)$ für $L(y,p)=y^{(i)}\\ln(p)+(1-y^{(i)})\\ln(1-p)$ (Cross-Entropy)\n",
    "* $\\frac{d}{d z} S(z)$ für $S(z)=\\frac{1}{1+\\exp(-z)}$ (logistische Sigmoid-Funktion)\n",
    "* $\\frac{d}{d \\beta_i} f(x)$ für $f(x) = \\beta_0 + \\beta_1 x_1 + ... + \\beta_m x_m$ (Regression)\n",
    "\n",
    "Die Kostenfunktion ist dann nämlich\n",
    "$$ C(\\beta) = L\\left(y,S(f(x)) \\right) $$\n",
    "Bestimmen Sie dann über die Kettenregel die Ableitung der Kostenfunktion $\\frac{d}{d\\beta_i} C(\\beta)$\n",
    "\n",
    "\n",
    "1. Welche der folgenden Terme ist die korrekte Ableitung für $\\frac{d}{d\\beta_0} C(\\beta)$?\n",
    "    1. $\\frac{d}{d\\beta_0} C(\\beta) =  1$\n",
    "    1. $\\frac{d}{d\\beta_0} C(\\beta) = -\\sum_{i=1}^n \\left(y^{(i)}-p(1|x^{(i)}) \\right)$\n",
    "    1. $\\frac{d}{d\\beta_0} C(\\beta) = \\frac{1}{n}\\sum_{i=1}^n \\left(y^{(i)}-p(1|x^{(i)}) \\right)$\n",
    "    1. $\\frac{d}{d\\beta_0} C(\\beta) = -\\frac{1}{n}\\sum_{i=1}^n \\left(y^{(i)}-p(1|x^{(i)}) \\right)$\n",
    "   \n",
    "1. Welche der folgenden Terme ist die korrekte Ableitung für $\\frac{d}{d\\beta_j} C(\\beta)$ für $j>0$?\n",
    "    1. $\\frac{d}{d\\beta_j} C(\\beta) = -\\frac{1}{n}\\sum_{i=1}^n x^{(i)}_j\\left(y^{(i)}-p(1|x^{(i)}) \\right)$   \n",
    "    1. $\\frac{d}{d\\beta_j} C(\\beta) = \\sum_{i=1}^n \\left(y^{(i)}-p(1|x^{(i)}) \\right)$\n",
    "    1. $\\frac{d}{d\\beta_j} C(\\beta) = -\\frac{1}{2n}\\sum_{i=1}^n x^{(i)}_j\\left(y^{(i)}-p(1|x^{(i)}) \\right)$\n",
    "    1. $\\frac{d}{d\\beta_j} C(\\beta) = \\frac{1}{n}\\sum_{i=1}^n x^{(i)}_j\\left(y^{(i)}-p(1|x^{(i)}) \\right)$"
   ]
  },
  {
   "cell_type": "markdown",
   "metadata": {},
   "source": [
    "**Antwort zu Aufgabe 2.1** <br>\n",
    "1. C\n",
    "1. D"
   ]
  },
  {
   "cell_type": "markdown",
   "metadata": {},
   "source": [
    "## Aufgabe 2.2 (Zusatzaufgabe) (One-Hot-Encoding) [4 Punkte*]\n",
    "**Diese Punkte sind nicht relevant für die Bestimmung der Bestehensgrenze, können aber von Ihnen als Zusatzpunkte gesammelt werden.**\n",
    "\n",
    "Auf der Moodle Seite des Praktikum (https://moodle.thi.de/course/view.php?id=6824) finden Sie den Datensatz `insurance.csv`, welcher zu medizinischen Informationen eines Patiente auch die Kosten für die Krankenversicherung (`charges`) und die logarithmierten Kosten der Krankenversicherung (`log_charges`) enthält.\n",
    "\n",
    "Im Datensatz befinden sich auch die drei kategoriellen Variablen `sex, smoker, region`. Bevor ein lineares Regressionsmodell in Python auf Daten trainiert werden kann, müssen alle kategoriellen Variablen in numerische transformiert werden.\n",
    "\n",
    "Ihre Aufgabe: Führen Sie ein One-Hot-Encoding für die obigen drei Variablen durch und generieren Sie so einen neuen Datensatz `data_enc`, welcherr ausschließlich aus numerischen Variablen besteht.\n",
    "\n",
    "_Hinweis_: Python stellt bereits eine Funktion für das One-Hot-Encoding bereit (`from sklearn.preprocessing import OneHotEncoder`) mittels der ein Encoding einfach durchgeführt werden kann.\n",
    "\n"
   ]
  },
  {
   "cell_type": "code",
   "execution_count": 99,
   "metadata": {},
   "outputs": [],
   "source": [
    "## Packages\n",
    "import pandas as pd\n",
    "import numpy as np\n",
    "%matplotlib inline\n",
    "import matplotlib.pyplot as plt\n",
    "plt.style.use('ggplot')"
   ]
  },
  {
   "cell_type": "code",
   "execution_count": 100,
   "metadata": {},
   "outputs": [
    {
     "name": "stdout",
     "output_type": "stream",
     "text": [
      "   age     sex     bmi  children smoker     region      charges  log_charges\n",
      "0   19  female  27.900         0    yes  southwest  16884.92400     9.734176\n",
      "1   18    male  33.770         1     no  southeast   1725.55230     7.453302\n",
      "2   28    male  33.000         3     no  southeast   4449.46200     8.400538\n",
      "3   33    male  22.705         0     no  northwest  21984.47061     9.998092\n",
      "4   32    male  28.880         0     no  northwest   3866.85520     8.260197\n",
      "Encoded Data: \n",
      "      age     bmi  children      charges  log_charges  sex_female  sex_male  \\\n",
      "0      19  27.900         0  16884.92400     9.734176         1.0       0.0   \n",
      "1      18  33.770         1   1725.55230     7.453302         0.0       1.0   \n",
      "2      28  33.000         3   4449.46200     8.400538         0.0       1.0   \n",
      "3      33  22.705         0  21984.47061     9.998092         0.0       1.0   \n",
      "4      32  28.880         0   3866.85520     8.260197         0.0       1.0   \n",
      "...   ...     ...       ...          ...          ...         ...       ...   \n",
      "1333   50  30.970         3  10600.54830     9.268661         0.0       1.0   \n",
      "1334   18  31.920         0   2205.98080     7.698927         1.0       0.0   \n",
      "1335   18  36.850         0   1629.83350     7.396233         1.0       0.0   \n",
      "1336   21  25.800         0   2007.94500     7.604867         1.0       0.0   \n",
      "1337   61  29.070         0  29141.36030    10.279914         1.0       0.0   \n",
      "\n",
      "      smoker_no  smoker_yes  region_northeast  region_northwest  \\\n",
      "0           0.0         1.0               0.0               0.0   \n",
      "1           1.0         0.0               0.0               0.0   \n",
      "2           1.0         0.0               0.0               0.0   \n",
      "3           1.0         0.0               0.0               1.0   \n",
      "4           1.0         0.0               0.0               1.0   \n",
      "...         ...         ...               ...               ...   \n",
      "1333        1.0         0.0               0.0               1.0   \n",
      "1334        1.0         0.0               1.0               0.0   \n",
      "1335        1.0         0.0               0.0               0.0   \n",
      "1336        1.0         0.0               0.0               0.0   \n",
      "1337        0.0         1.0               0.0               1.0   \n",
      "\n",
      "      region_southeast  region_southwest  \n",
      "0                  0.0               1.0  \n",
      "1                  1.0               0.0  \n",
      "2                  1.0               0.0  \n",
      "3                  0.0               0.0  \n",
      "4                  0.0               0.0  \n",
      "...                ...               ...  \n",
      "1333               0.0               0.0  \n",
      "1334               0.0               0.0  \n",
      "1335               1.0               0.0  \n",
      "1336               0.0               1.0  \n",
      "1337               0.0               0.0  \n",
      "\n",
      "[1338 rows x 13 columns]\n"
     ]
    }
   ],
   "source": [
    "## Lösung für Aufgabe 2.2\n",
    "from sklearn.preprocessing import OneHotEncoder\n",
    "\n",
    "#### Code here ####\n",
    "data = pd.read_csv(\"C:\\\\Users\\\\99470\\\\Downloads\\\\Aufgabenblatt 2\\\\Daten\\\\insurance.csv\")\n",
    "df = pd.DataFrame(data)\n",
    "print(df.head())\n",
    "\n",
    "categorial_columns = ['sex', 'smoker', 'region']\n",
    "\n",
    "enc = OneHotEncoder(handle_unknown='ignore')\n",
    "encoded = enc.fit_transform(df[categorial_columns])\n",
    "\n",
    "one_hot_df = pd.DataFrame(encoded.toarray(), columns=enc.get_feature_names_out(categorial_columns))\n",
    "df_encoded = pd.concat([df, one_hot_df], axis=1)\n",
    "df_encoded = df_encoded.drop(categorial_columns, axis=1)\n",
    "\n",
    "print(f\"Encoded Data: \\n{df_encoded}\")\n",
    "\n",
    "df_encoded.to_csv(\"data_enc.csv\", index=False)\n",
    "\n"
   ]
  },
  {
   "cell_type": "markdown",
   "metadata": {},
   "source": [
    "## Aufgabe 2.3 (Implementierung des Gradientenverfahrens) [10 Punkte]\n",
    "In dieser Aufgabe sollen Sie das Gradientenabstiegsverfahren für die lineare Regression implementieren und ein lineares Regressionsmodell auf dem encodeten Datensatz aus der vorherigen Aufgabe erstellen, welches aus den medizinischen Informationen die logarithmischen Kosten `log_charges` prognostiziert. Den Datensatz mit den kodierten Variablen finden Sie auch auf der Moodle Seite des Praktikums (https://moodle.thi.de/course/view.php?id=6824) unter dem Namen `insurance_encoded.csv`.\n",
    "\n",
    "_Hinweis_: Anstatt bei der Implementierung Schleife zu verwenden, können Sie auch die schnelleren Matrix-Operationen benutzen. Die Matrixmultiplikation kann z.B. durch die Funktion `numpy.dot` durchgeführt werden. Auch wichtig könnte die Funktion `numpy.transpose` zum transponieren einer Matrix sein.\n",
    "\n",
    "Während des Gradientenabstiegsverfahren (GAV) werden mehrere Schritte ausgeführt, die in einzelnen Funktionen implementiert werden müssen.\n",
    "1. **Schritt (Initialisierung der Parameter):** Zum Start des GAV müssen die Parameter initialisiert werden. Dies soll durch die Funktion `initialize_param(size_data)` erfolgen, die nach Eingabe der Datensatzgröße `size_data` einen Vektor der Länge `size_data` bestehend aus 1sen ausgibt. Ergänzen Sie den fehlenden Code in der Funktion `initialize_param(size_data)`.\n",
    "\n",
    "In jedem Iterationsschritt werden jetzt die folgenden Schritte nacheinander durchgeführt:\n",
    "\n",
    "2. **Schritt (Vorhersage der Werte der Zielvariablen):** Als erstes muss die Zielvariable für das aktuelle Modell (die aktuellen Parameter) berechnet werden. Die Funktion `predict(X, param)` berechnet für die Feature-Matrix `X` und die aktuellen Parameter `param` den Output der Regression. Ergänzen Sie den fehlenden Code in der Funktion `predict(X, param)`. _Hinweis_: Nutzen Sie Matrix-Operationen.\n",
    "\n",
    "2. **Schritt (Berechnung der Gradienten der Kostenfunktion):** Basierend auf der Vorhersage aus dem vorherigen Schritt können jetzt die Gradienten der Kostenfunktion berechnet werden. Die Funktion `calculate_gradient_l2(Y, X, pred)` berechnet für die Eingabe der Feature-Matrix `X`, der realen Zielwerte `Y` und der Prognose durch das Modell `pred` den Wert der Gradienten für die quadratische Kostenfunktion. Ergänzen Sie den fehlenden Code in der Funktion `calculate_gradient_l2(Y, X, pred)` zur Berechnung der Gradienten. _Hinweis_: Nutzen Sie Matrix-Operationen.\n",
    "\n",
    "2. **Schritt (Update der Parameter):** Im letzten Schritt werden die Parameter mittels Substraktion der Gradienten (siehe obige Formel) angepasst. Die Funktion `update_param(param, grad, learnrate)` führt nach Eingabe der Parameter `param`, der Gradienten `grad` und der Lernrate `learnrate` diese Operation durch und gibt die neuen Parameter zurück. Ergänzen Sie den fehlenden Code in der Funktion `update_param(param, grad, learnrate)`.\n",
    "\n",
    "Die Funktion `gradient_descent_lin_reg(X, Y, learning_rate, max_iter)` führt das GAV durch, indem die obigen Schritte nacheinander durchgeführt werden.\n",
    "\n",
    "5. Implemenieren Sie das GAV indem Sie die obigen Schritte in der richtigen Reihenfolge in der Funktion `gradient_descent_lin_reg(X, Y, learning_rate, max_iter)` ergänzen. Speichern Sie die neuen Parameter in der Variable `param`, welche von der Funktion zurückgegeben wird.\n",
    "\n",
    "6. Generieren Sie aus dem Insurance-Datensatz (`insurance_encoded.csv`) die Zielvariable `Y`, welche die logarithmierten Kosten `log_charges` enthält und eine geeignete Feature-Matrix `X` (Achtung: Sind alle restlichen Variablen als Inputs geeignet?). Fügen Sie zu `X` auch eine weitere Spalte `bias` hinzu, welche nur 1sen beinhaltet und die Konstante in der linearen Gleichung repräsentiert. Trainieren Sie ein lineares Regressionsmodell mittels des GAV für die Daten indem Sie den folgenden Code ausführen:\n",
    "\n",
    "```python\n",
    "costs, param = gradient_descent_lin_reg(X, Y, learning_rate=0.0001, max_iter=40, err=1e-3)\n",
    "```\n",
    "\n",
    "Als Evaluation des Trainingsprozesses und des Models führen Sie folgenden Code aus\n",
    "\n",
    "```python\n",
    "plt.plot(costs)\n",
    "plt.title(\"Costs\")\n",
    "plt.show()\n",
    "\n",
    "plt.hist(predict(X, param)-Y)\n",
    "plt.title(\"Distribution of errors\")\n",
    "plt.show()\n",
    "\n",
    "# RMSE\n",
    "print(\"RMSE: \", np.sqrt(np.mean((predict(X, param)-Y)**2)))\n",
    "```\n",
    "\n",
    "Zur Kontrolle: Sie sollten sehen, dass die Kostenfunktion streng und schnell fällt. Nach 40 Iterationen sollte sie einen Wert von ca. 1.63 aufweisen. Der RMSE liegt ungefähr bei 1.8."
   ]
  },
  {
   "cell_type": "markdown",
   "metadata": {},
   "source": [
    "**Laden der pakete und Hilfsfunktion**"
   ]
  },
  {
   "cell_type": "code",
   "execution_count": 103,
   "metadata": {},
   "outputs": [],
   "source": [
    "## Packages\n",
    "import pandas as pd\n",
    "import numpy as np\n",
    "%matplotlib inline\n",
    "import matplotlib.pyplot as plt\n",
    "plt.style.use('ggplot')"
   ]
  },
  {
   "cell_type": "code",
   "execution_count": 104,
   "metadata": {},
   "outputs": [],
   "source": [
    "## calculate loss\n",
    "def calculate_L2_cost(Y, pred):\n",
    "    l2_loss = 0.5*np.mean((Y-pred)**2)\n",
    "    return(l2_loss)"
   ]
  },
  {
   "cell_type": "markdown",
   "metadata": {},
   "source": [
    "**Beginn Ihrer Lösung für Aufgabe 2.3**"
   ]
  },
  {
   "cell_type": "code",
   "execution_count": 106,
   "metadata": {},
   "outputs": [],
   "source": [
    "## initialize parameter\n",
    "def initialize_param(size_data):\n",
    "    \n",
    "    ### --- Code here --- ###\n",
    "    param = np.ones(size_data)\n",
    "    ### ----------------- ###\n",
    "    \n",
    "    return(param)"
   ]
  },
  {
   "cell_type": "code",
   "execution_count": 107,
   "metadata": {},
   "outputs": [],
   "source": [
    "## Forward Function\n",
    "def predict(X, param):\n",
    "    \n",
    "    ### --- Code here --- ###\n",
    "    pred = np.dot(X, param)\n",
    "    ### ----------------- ###\n",
    "    \n",
    "    return(pred)"
   ]
  },
  {
   "cell_type": "code",
   "execution_count": 108,
   "metadata": {},
   "outputs": [],
   "source": [
    "## calculate gradient\n",
    "def calculate_gradient_l2(Y, X, pred):\n",
    "    \n",
    "    ### --- Code here --- ###\n",
    "    cost = 1/(2*len(Y)) * np.sum((Y-pred)**2)\n",
    "    x_transpose = np.transpose(X)\n",
    "    grad = 1/len(Y) * np.dot(x_transpose, (Y - pred))\n",
    "    ### ----------------- ###\n",
    "    \n",
    "    return(grad)"
   ]
  },
  {
   "cell_type": "code",
   "execution_count": 109,
   "metadata": {},
   "outputs": [],
   "source": [
    "## update param\n",
    "def update_param(param, grad, learnrate):\n",
    "    \n",
    "    ### --- Code here --- ###\n",
    "    param = param + learnrate * grad\n",
    "    ### ----------------- ###\n",
    "    \n",
    "    return (param)"
   ]
  },
  {
   "cell_type": "code",
   "execution_count": 110,
   "metadata": {},
   "outputs": [],
   "source": [
    "## main function for gradient descent\n",
    "def gradient_descent_lin_reg(X, Y, learning_rate, max_iter, err):\n",
    "    \n",
    "    cost_hist = []\n",
    "    \n",
    "    size_data = X.shape[1]\n",
    "    \n",
    "    # initialize parameter vector\n",
    "    param = initialize_param(size_data)\n",
    "\n",
    "    # Gradient descent iterations\n",
    "    for i in range(max_iter):\n",
    "        \n",
    "        ### --- Code here --- ###\n",
    "        \n",
    "        prediction = predict(X, param)\n",
    "        grad = calculate_gradient_l2(Y, X, prediction)\n",
    "        param = update_param(param, grad, learning_rate)\n",
    "\n",
    "        ### ----------------- ###\n",
    "        \n",
    "        current_cost = calculate_L2_cost(Y, prediction) \n",
    "        cost_hist.append(current_cost)\n",
    "        print(f'Iteration: {i} cost: {current_cost:10.8f}')\n",
    "        \n",
    "        # Stop if convergence is ensured\n",
    "        if np.mean(grad**2)<err:\n",
    "            break\n",
    "        \n",
    "    return cost_hist, param"
   ]
  },
  {
   "cell_type": "code",
   "execution_count": 111,
   "metadata": {},
   "outputs": [
    {
     "name": "stdout",
     "output_type": "stream",
     "text": [
      "   age     bmi  children      charges  log_charges  x0_female  x0_male  x1_no  \\\n",
      "0   19  27.900         0  16884.92400     9.734176        1.0      0.0    0.0   \n",
      "1   18  33.770         1   1725.55230     7.453302        0.0      1.0    1.0   \n",
      "2   28  33.000         3   4449.46200     8.400538        0.0      1.0    1.0   \n",
      "3   33  22.705         0  21984.47061     9.998092        0.0      1.0    1.0   \n",
      "4   32  28.880         0   3866.85520     8.260197        0.0      1.0    1.0   \n",
      "\n",
      "   x1_yes  x2_northeast  x2_northwest  x2_southeast  x2_southwest  \n",
      "0     1.0           0.0           0.0           0.0           1.0  \n",
      "1     0.0           0.0           0.0           1.0           0.0  \n",
      "2     0.0           0.0           0.0           1.0           0.0  \n",
      "3     0.0           0.0           1.0           0.0           0.0  \n",
      "4     0.0           0.0           1.0           0.0           0.0  \n"
     ]
    }
   ],
   "source": [
    "## Lösung zu Aufgabenteil 6. (Model training)\n",
    "\n",
    "#### Code here ####\n",
    "data = pd.read_csv(\"C:\\\\Users\\\\99470\\\\Downloads\\\\Aufgabenblatt 2\\\\Daten\\\\insurance_encoded.csv\")\n",
    "df = pd.DataFrame(data)\n",
    "\n",
    "print(df.head())\n",
    "\n",
    "X = df.drop(['log_charges', 'charges'], axis=1).values\n",
    "X_with_bias = np.c_[np.ones((X.shape[0], 1)), X]\n",
    "Y = df['log_charges'].values\n"
   ]
  },
  {
   "cell_type": "code",
   "execution_count": 112,
   "metadata": {},
   "outputs": [
    {
     "name": "stdout",
     "output_type": "stream",
     "text": [
      "Iteration: 0 cost: 2224.63024015\n",
      "Iteration: 1 cost: 1210.06146860\n",
      "Iteration: 2 cost: 658.63487058\n",
      "Iteration: 3 cost: 358.92606824\n",
      "Iteration: 4 cost: 196.02596689\n",
      "Iteration: 5 cost: 107.48150215\n",
      "Iteration: 6 cost: 59.34944794\n",
      "Iteration: 7 cost: 33.18166765\n",
      "Iteration: 8 cost: 18.95160160\n",
      "Iteration: 9 cost: 11.20981495\n",
      "Iteration: 10 cost: 6.99453902\n",
      "Iteration: 11 cost: 4.69605104\n",
      "Iteration: 12 cost: 3.43946488\n",
      "Iteration: 13 cost: 2.74927794\n",
      "Iteration: 14 cost: 2.36705254\n",
      "Iteration: 15 cost: 2.15232570\n",
      "Iteration: 16 cost: 2.02875377\n",
      "Iteration: 17 cost: 1.95484190\n",
      "Iteration: 18 cost: 1.90803566\n",
      "Iteration: 19 cost: 1.87607470\n",
      "Iteration: 20 cost: 1.85229358\n",
      "Iteration: 21 cost: 1.83306772\n",
      "Iteration: 22 cost: 1.81642527\n",
      "Iteration: 23 cost: 1.80129265\n",
      "Iteration: 24 cost: 1.78708458\n",
      "Iteration: 25 cost: 1.77348115\n",
      "Iteration: 26 cost: 1.76030672\n",
      "Iteration: 27 cost: 1.74746411\n",
      "Iteration: 28 cost: 1.73489879\n",
      "Iteration: 29 cost: 1.72257946\n",
      "Iteration: 30 cost: 1.71048746\n",
      "Iteration: 31 cost: 1.69861103\n",
      "Iteration: 32 cost: 1.68694219\n",
      "Iteration: 33 cost: 1.67547505\n",
      "Iteration: 34 cost: 1.66420488\n",
      "Iteration: 35 cost: 1.65312759\n",
      "Iteration: 36 cost: 1.64223947\n",
      "Iteration: 37 cost: 1.63153707\n",
      "Iteration: 38 cost: 1.62101707\n",
      "Iteration: 39 cost: 1.61067627\n"
     ]
    }
   ],
   "source": [
    "# Run gradient descnet\n",
    "costs, param = gradient_descent_lin_reg(X, Y, learning_rate=0.0001, max_iter=40, err=1e-3)"
   ]
  },
  {
   "cell_type": "markdown",
   "metadata": {},
   "source": [
    "**Evaluation of Training and Modell**"
   ]
  },
  {
   "cell_type": "code",
   "execution_count": 114,
   "metadata": {},
   "outputs": [
    {
     "data": {
      "image/png": "[encoded data removed]",
      "text/plain": [
       "<Figure size 640x480 with 1 Axes>"
      ]
     },
     "metadata": {},
     "output_type": "display_data"
    },
    {
     "data": {
      "image/png": "[encoded data removed]",
      "text/plain": [
       "<Figure size 640x480 with 1 Axes>"
      ]
     },
     "metadata": {},
     "output_type": "display_data"
    },
    {
     "name": "stdout",
     "output_type": "stream",
     "text": [
      "RMSE:  1.789140314658142\n"
     ]
    }
   ],
   "source": [
    "## Validation of Model and \n",
    "plt.plot(costs)\n",
    "plt.title(\"Costs\")\n",
    "plt.show()\n",
    "\n",
    "plt.hist(predict(X, param)-Y)\n",
    "plt.title(\"Distribution of errors\")\n",
    "plt.show()\n",
    "\n",
    "# RMSE\n",
    "print(\"RMSE: \", np.sqrt(np.mean((predict(X, param)-Y)**2)))"
   ]
  },
  {
   "cell_type": "markdown",
   "metadata": {},
   "source": [
    "# 3. Kostenfunktion"
   ]
  },
  {
   "cell_type": "markdown",
   "metadata": {},
   "source": [
    "## Aufgabe 3.1 [3 Punkte]\n",
    "Die 4 unteren Bilder zeichen jeweils eine Decision Boundary einer binäre Klassifikation zwischen Kreisen und Quadraten. Die roten Kreise sind neue hinzugenommene Daten für die jeweils die Werte einer der folgenden Versultfunktione angegeben sind **0-1-Loss, Hinge-Loss, Logistic-Loss** oder **Exponential-Loss**. Ordnen Sie die Bilder der jeweils verwendeten Verlustfunktion zu.\n",
    "\n",
    "**A**\n",
    "\n",
    "<img src=\"Bilder/loss_function1.png\" alt=\"Drawing\" style=\"width: 400px;\"/>\n",
    "\n",
    "**B**\n",
    "\n",
    "<img src=\"Bilder/loss_function 31.png\" alt=\"Drawing\" style=\"width: 400px;\"/>\n",
    "\n",
    "**C**\n",
    "\n",
    "<img src=\"Bilder/loss_function 2.png\" alt=\"Drawing\" style=\"width: 400px;\"/>\n",
    "\n",
    "**D**\n",
    "\n",
    "<img src=\"Bilder/loss_function 4.png\" alt=\"Drawing\" style=\"width: 400px;\"/>"
   ]
  },
  {
   "cell_type": "markdown",
   "metadata": {},
   "source": [
    "**Antwort für Aufgabe 3.1**\n",
    "* 0-1-Loss = A\n",
    "* Hinge-Loss = D\n",
    "* Logistic-Loss = B\n",
    "* Exponential-Loss = C"
   ]
  }
 ],
 "metadata": {
  "kernelspec": {
   "display_name": "Python 3 (ipykernel)",
   "language": "python",
   "name": "python3"
  },
  "language_info": {
   "codemirror_mode": {
    "name": "ipython",
    "version": 3
   },
   "file_extension": ".py",
   "mimetype": "text/x-python",
   "name": "python",
   "nbconvert_exporter": "python",
   "pygments_lexer": "ipython3",
   "version": "3.11.5"
  }
 },
 "nbformat": 4,
 "nbformat_minor": 4
}
