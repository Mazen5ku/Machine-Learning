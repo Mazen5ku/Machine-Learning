{
 "cells": [
  {
   "cell_type": "markdown",
   "metadata": {},
   "source": [
    "---"
   ]
  },
  {
   "cell_type": "markdown",
   "metadata": {},
   "source": [
    "[//]: # \"Header\"\n",
    "\n",
    "<p style=\"text-align: left;  font-size:18pt; LINE-HEIGHT:30px;\">\n",
    "    <span style=\"float: left\">\n",
    "     Technische Hochschule Ingolstadt<br>\n",
    "     Prof. Dr. Sören Gröttrup, Laura Dietl\n",
    "    </span>\n",
    "    <span style=\"float: right;\">\n",
    "       Machine Learning 1<br>\n",
    "        <span style=\"float: right;\">WS 24/25</span>\n",
    "    </span>\n",
    "</p>"
   ]
  },
  {
   "cell_type": "markdown",
   "metadata": {},
   "source": [
    "[//]: # \"Header Aufgabenblatt\"\n",
    "<br>\n",
    "<p style=\"text-align: center;  font-size:18pt; LINE-HEIGHT:30px;\">\n",
    "     <span style=\"font-weight: bold;\">Aufgabenblatt 3</span><br>\n",
    "     Themen: Cross-Validation, Overfitting, Normalisierung, Einführung in PyTorch<br>\n",
    "     Abgabetermin: 17.11.24, 23:59 Uhr <br>\n",
    "     Punkte: <font color='red'>19,5 (+2,5)</font> / 32 (+4)\n",
    "</p>\n"
   ]
  },
  {
   "cell_type": "markdown",
   "metadata": {},
   "source": [
    "---"
   ]
  },
  {
   "cell_type": "markdown",
   "metadata": {},
   "source": [
    "**Namen:** Elkhan Alimatov (ela0016), Mazen Zidan (maz4669) , Hamdah Mariyam (ham2119)"
   ]
  },
  {
   "cell_type": "markdown",
   "metadata": {},
   "source": [
    "---"
   ]
  },
  {
   "cell_type": "markdown",
   "metadata": {},
   "source": [
    "# 1. K-fold Cross-Validation\n"
   ]
  },
  {
   "cell_type": "markdown",
   "metadata": {},
   "source": [
    "### Cross-Validation Funktionen in sklearn \n",
    "Python stellt einige Funktionen für die Cross-Validation zur Verfügung, welche in der Bibliothek `sklearn.model_selection` zu finden sind. Insbesondere die folgenden Funktionen sind dabei hilfreich:\n",
    "\n",
    "1. `KFold`\n",
    "1. `cross_validate`\n",
    "1. `cross_val_score`\n",
    "\n",
    "Genaue Informationen finden Sie auf der Seite https://scikit-learn.org. Einige Funktionen geben einen Evaluationsscore zurück. Schauen Sie auch nach, wie Sie den Standard-Rückgabe-Score ändern können, z.B. in den RMSE."
   ]
  },
  {
   "cell_type": "markdown",
   "metadata": {},
   "source": [
    "### Daten\n",
    "Der Datensatz `Ozone.csv` enthält meterologische Daten und die Konzentration von Ozone (O3) in der Luft im Raum Los Angeles. Die folgende Tabelle zeigt die Beschreibung der Variablen.\n",
    "\n",
    "|Name of variable| Description|\n",
    "| --- | --- |\n",
    "|O3| Daily maximum of the hourly average ozone concentration|\n",
    "|Vh| 500 millibar pressure height|\n",
    "|Wind| Wind speed in mph|\n",
    "|Humidity| Humidity in percent|\n",
    "|Temp| Temperature in degrees Fahrenheit|\n",
    "|Ibh| Temperature inversion base height in feet|\n",
    "|Dpg| Pressure gradient in mm Hg|\n",
    "|Ibt| Inversion base temperature in degrees Fahrenheit|\n",
    "|Vis| Visibility|\n",
    "|Day| Day of year|"
   ]
  },
  {
   "cell_type": "markdown",
   "metadata": {},
   "source": [
    "**Daten laden**"
   ]
  },
  {
   "cell_type": "code",
   "execution_count": 1,
   "metadata": {},
   "outputs": [],
   "source": [
    "## Packages\n",
    "import pandas as pd\n",
    "import numpy as np\n",
    "%matplotlib inline\n",
    "import matplotlib.pyplot as plt\n",
    "plt.style.use('ggplot')"
   ]
  },
  {
   "cell_type": "code",
   "execution_count": 2,
   "metadata": {},
   "outputs": [
    {
     "data": {
      "text/html": [
       "<div>\n",
       "<style scoped>\n",
       "    .dataframe tbody tr th:only-of-type {\n",
       "        vertical-align: middle;\n",
       "    }\n",
       "\n",
       "    .dataframe tbody tr th {\n",
       "        vertical-align: top;\n",
       "    }\n",
       "\n",
       "    .dataframe thead th {\n",
       "        text-align: right;\n",
       "    }\n",
       "</style>\n",
       "<table border=\"1\" class=\"dataframe\">\n",
       "  <thead>\n",
       "    <tr style=\"text-align: right;\">\n",
       "      <th></th>\n",
       "      <th>O3</th>\n",
       "      <th>vh</th>\n",
       "      <th>wind</th>\n",
       "      <th>humidity</th>\n",
       "      <th>temp</th>\n",
       "      <th>ibh</th>\n",
       "      <th>dpg</th>\n",
       "      <th>ibt</th>\n",
       "      <th>vis</th>\n",
       "      <th>doy</th>\n",
       "    </tr>\n",
       "  </thead>\n",
       "  <tbody>\n",
       "    <tr>\n",
       "      <th>0</th>\n",
       "      <td>3</td>\n",
       "      <td>5710</td>\n",
       "      <td>4</td>\n",
       "      <td>28</td>\n",
       "      <td>40</td>\n",
       "      <td>2693</td>\n",
       "      <td>-25</td>\n",
       "      <td>87</td>\n",
       "      <td>250</td>\n",
       "      <td>33</td>\n",
       "    </tr>\n",
       "    <tr>\n",
       "      <th>1</th>\n",
       "      <td>5</td>\n",
       "      <td>5700</td>\n",
       "      <td>3</td>\n",
       "      <td>37</td>\n",
       "      <td>45</td>\n",
       "      <td>590</td>\n",
       "      <td>-24</td>\n",
       "      <td>128</td>\n",
       "      <td>100</td>\n",
       "      <td>34</td>\n",
       "    </tr>\n",
       "    <tr>\n",
       "      <th>2</th>\n",
       "      <td>5</td>\n",
       "      <td>5760</td>\n",
       "      <td>3</td>\n",
       "      <td>51</td>\n",
       "      <td>54</td>\n",
       "      <td>1450</td>\n",
       "      <td>25</td>\n",
       "      <td>139</td>\n",
       "      <td>60</td>\n",
       "      <td>35</td>\n",
       "    </tr>\n",
       "    <tr>\n",
       "      <th>3</th>\n",
       "      <td>6</td>\n",
       "      <td>5720</td>\n",
       "      <td>4</td>\n",
       "      <td>69</td>\n",
       "      <td>35</td>\n",
       "      <td>1568</td>\n",
       "      <td>15</td>\n",
       "      <td>121</td>\n",
       "      <td>60</td>\n",
       "      <td>36</td>\n",
       "    </tr>\n",
       "    <tr>\n",
       "      <th>4</th>\n",
       "      <td>4</td>\n",
       "      <td>5790</td>\n",
       "      <td>6</td>\n",
       "      <td>19</td>\n",
       "      <td>45</td>\n",
       "      <td>2631</td>\n",
       "      <td>-33</td>\n",
       "      <td>123</td>\n",
       "      <td>100</td>\n",
       "      <td>37</td>\n",
       "    </tr>\n",
       "    <tr>\n",
       "      <th>...</th>\n",
       "      <td>...</td>\n",
       "      <td>...</td>\n",
       "      <td>...</td>\n",
       "      <td>...</td>\n",
       "      <td>...</td>\n",
       "      <td>...</td>\n",
       "      <td>...</td>\n",
       "      <td>...</td>\n",
       "      <td>...</td>\n",
       "      <td>...</td>\n",
       "    </tr>\n",
       "    <tr>\n",
       "      <th>325</th>\n",
       "      <td>8</td>\n",
       "      <td>5630</td>\n",
       "      <td>4</td>\n",
       "      <td>50</td>\n",
       "      <td>50</td>\n",
       "      <td>2851</td>\n",
       "      <td>-5</td>\n",
       "      <td>100</td>\n",
       "      <td>70</td>\n",
       "      <td>384</td>\n",
       "    </tr>\n",
       "    <tr>\n",
       "      <th>326</th>\n",
       "      <td>2</td>\n",
       "      <td>5730</td>\n",
       "      <td>3</td>\n",
       "      <td>53</td>\n",
       "      <td>51</td>\n",
       "      <td>111</td>\n",
       "      <td>-14</td>\n",
       "      <td>225</td>\n",
       "      <td>200</td>\n",
       "      <td>387</td>\n",
       "    </tr>\n",
       "    <tr>\n",
       "      <th>327</th>\n",
       "      <td>3</td>\n",
       "      <td>5690</td>\n",
       "      <td>3</td>\n",
       "      <td>23</td>\n",
       "      <td>51</td>\n",
       "      <td>5000</td>\n",
       "      <td>-36</td>\n",
       "      <td>107</td>\n",
       "      <td>70</td>\n",
       "      <td>388</td>\n",
       "    </tr>\n",
       "    <tr>\n",
       "      <th>328</th>\n",
       "      <td>5</td>\n",
       "      <td>5650</td>\n",
       "      <td>3</td>\n",
       "      <td>61</td>\n",
       "      <td>50</td>\n",
       "      <td>3704</td>\n",
       "      <td>18</td>\n",
       "      <td>83</td>\n",
       "      <td>40</td>\n",
       "      <td>389</td>\n",
       "    </tr>\n",
       "    <tr>\n",
       "      <th>329</th>\n",
       "      <td>1</td>\n",
       "      <td>5550</td>\n",
       "      <td>4</td>\n",
       "      <td>85</td>\n",
       "      <td>39</td>\n",
       "      <td>5000</td>\n",
       "      <td>8</td>\n",
       "      <td>44</td>\n",
       "      <td>100</td>\n",
       "      <td>390</td>\n",
       "    </tr>\n",
       "  </tbody>\n",
       "</table>\n",
       "<p>330 rows × 10 columns</p>\n",
       "</div>"
      ],
      "text/plain": [
       "     O3    vh  wind  humidity  temp   ibh  dpg  ibt  vis  doy\n",
       "0     3  5710     4        28    40  2693  -25   87  250   33\n",
       "1     5  5700     3        37    45   590  -24  128  100   34\n",
       "2     5  5760     3        51    54  1450   25  139   60   35\n",
       "3     6  5720     4        69    35  1568   15  121   60   36\n",
       "4     4  5790     6        19    45  2631  -33  123  100   37\n",
       "..   ..   ...   ...       ...   ...   ...  ...  ...  ...  ...\n",
       "325   8  5630     4        50    50  2851   -5  100   70  384\n",
       "326   2  5730     3        53    51   111  -14  225  200  387\n",
       "327   3  5690     3        23    51  5000  -36  107   70  388\n",
       "328   5  5650     3        61    50  3704   18   83   40  389\n",
       "329   1  5550     4        85    39  5000    8   44  100  390\n",
       "\n",
       "[330 rows x 10 columns]"
      ]
     },
     "execution_count": 2,
     "metadata": {},
     "output_type": "execute_result"
    }
   ],
   "source": [
    "# Import data\n",
    "data = pd.read_csv(\"C:/Users/hmari/Desktop/THI_KI/S3/ML1/praktikum/Augabenblatt 3/Daten Blatt 3/Ozone.csv\")\n",
    "data"
   ]
  },
  {
   "cell_type": "code",
   "execution_count": 3,
   "metadata": {},
   "outputs": [
    {
     "data": {
      "text/html": [
       "<div>\n",
       "<style scoped>\n",
       "    .dataframe tbody tr th:only-of-type {\n",
       "        vertical-align: middle;\n",
       "    }\n",
       "\n",
       "    .dataframe tbody tr th {\n",
       "        vertical-align: top;\n",
       "    }\n",
       "\n",
       "    .dataframe thead th {\n",
       "        text-align: right;\n",
       "    }\n",
       "</style>\n",
       "<table border=\"1\" class=\"dataframe\">\n",
       "  <thead>\n",
       "    <tr style=\"text-align: right;\">\n",
       "      <th></th>\n",
       "      <th>O3</th>\n",
       "      <th>vh</th>\n",
       "      <th>wind</th>\n",
       "      <th>humidity</th>\n",
       "      <th>temp</th>\n",
       "      <th>ibh</th>\n",
       "      <th>dpg</th>\n",
       "      <th>ibt</th>\n",
       "      <th>vis</th>\n",
       "      <th>doy</th>\n",
       "    </tr>\n",
       "  </thead>\n",
       "  <tbody>\n",
       "    <tr>\n",
       "      <th>count</th>\n",
       "      <td>330.000000</td>\n",
       "      <td>330.000000</td>\n",
       "      <td>330.000000</td>\n",
       "      <td>330.000000</td>\n",
       "      <td>330.000000</td>\n",
       "      <td>330.000000</td>\n",
       "      <td>330.000000</td>\n",
       "      <td>330.000000</td>\n",
       "      <td>330.000000</td>\n",
       "      <td>330.000000</td>\n",
       "    </tr>\n",
       "    <tr>\n",
       "      <th>mean</th>\n",
       "      <td>11.775758</td>\n",
       "      <td>5750.484848</td>\n",
       "      <td>4.848485</td>\n",
       "      <td>58.130303</td>\n",
       "      <td>61.754545</td>\n",
       "      <td>2572.875758</td>\n",
       "      <td>17.369697</td>\n",
       "      <td>161.160606</td>\n",
       "      <td>124.533333</td>\n",
       "      <td>209.424242</td>\n",
       "    </tr>\n",
       "    <tr>\n",
       "      <th>std</th>\n",
       "      <td>8.011277</td>\n",
       "      <td>105.708241</td>\n",
       "      <td>2.116963</td>\n",
       "      <td>19.865000</td>\n",
       "      <td>14.458737</td>\n",
       "      <td>1803.885870</td>\n",
       "      <td>35.717181</td>\n",
       "      <td>76.679424</td>\n",
       "      <td>79.362393</td>\n",
       "      <td>104.376374</td>\n",
       "    </tr>\n",
       "    <tr>\n",
       "      <th>min</th>\n",
       "      <td>1.000000</td>\n",
       "      <td>5320.000000</td>\n",
       "      <td>0.000000</td>\n",
       "      <td>19.000000</td>\n",
       "      <td>25.000000</td>\n",
       "      <td>111.000000</td>\n",
       "      <td>-69.000000</td>\n",
       "      <td>-25.000000</td>\n",
       "      <td>0.000000</td>\n",
       "      <td>33.000000</td>\n",
       "    </tr>\n",
       "    <tr>\n",
       "      <th>25%</th>\n",
       "      <td>5.000000</td>\n",
       "      <td>5690.000000</td>\n",
       "      <td>3.000000</td>\n",
       "      <td>47.000000</td>\n",
       "      <td>51.000000</td>\n",
       "      <td>877.500000</td>\n",
       "      <td>-9.000000</td>\n",
       "      <td>107.000000</td>\n",
       "      <td>70.000000</td>\n",
       "      <td>120.250000</td>\n",
       "    </tr>\n",
       "    <tr>\n",
       "      <th>50%</th>\n",
       "      <td>10.000000</td>\n",
       "      <td>5760.000000</td>\n",
       "      <td>5.000000</td>\n",
       "      <td>64.000000</td>\n",
       "      <td>62.000000</td>\n",
       "      <td>2112.500000</td>\n",
       "      <td>24.000000</td>\n",
       "      <td>167.500000</td>\n",
       "      <td>120.000000</td>\n",
       "      <td>205.500000</td>\n",
       "    </tr>\n",
       "    <tr>\n",
       "      <th>75%</th>\n",
       "      <td>17.000000</td>\n",
       "      <td>5830.000000</td>\n",
       "      <td>6.000000</td>\n",
       "      <td>73.000000</td>\n",
       "      <td>72.000000</td>\n",
       "      <td>5000.000000</td>\n",
       "      <td>44.750000</td>\n",
       "      <td>214.000000</td>\n",
       "      <td>150.000000</td>\n",
       "      <td>301.750000</td>\n",
       "    </tr>\n",
       "    <tr>\n",
       "      <th>max</th>\n",
       "      <td>38.000000</td>\n",
       "      <td>5950.000000</td>\n",
       "      <td>11.000000</td>\n",
       "      <td>93.000000</td>\n",
       "      <td>93.000000</td>\n",
       "      <td>5000.000000</td>\n",
       "      <td>107.000000</td>\n",
       "      <td>332.000000</td>\n",
       "      <td>350.000000</td>\n",
       "      <td>390.000000</td>\n",
       "    </tr>\n",
       "  </tbody>\n",
       "</table>\n",
       "</div>"
      ],
      "text/plain": [
       "               O3           vh        wind    humidity        temp  \\\n",
       "count  330.000000   330.000000  330.000000  330.000000  330.000000   \n",
       "mean    11.775758  5750.484848    4.848485   58.130303   61.754545   \n",
       "std      8.011277   105.708241    2.116963   19.865000   14.458737   \n",
       "min      1.000000  5320.000000    0.000000   19.000000   25.000000   \n",
       "25%      5.000000  5690.000000    3.000000   47.000000   51.000000   \n",
       "50%     10.000000  5760.000000    5.000000   64.000000   62.000000   \n",
       "75%     17.000000  5830.000000    6.000000   73.000000   72.000000   \n",
       "max     38.000000  5950.000000   11.000000   93.000000   93.000000   \n",
       "\n",
       "               ibh         dpg         ibt         vis         doy  \n",
       "count   330.000000  330.000000  330.000000  330.000000  330.000000  \n",
       "mean   2572.875758   17.369697  161.160606  124.533333  209.424242  \n",
       "std    1803.885870   35.717181   76.679424   79.362393  104.376374  \n",
       "min     111.000000  -69.000000  -25.000000    0.000000   33.000000  \n",
       "25%     877.500000   -9.000000  107.000000   70.000000  120.250000  \n",
       "50%    2112.500000   24.000000  167.500000  120.000000  205.500000  \n",
       "75%    5000.000000   44.750000  214.000000  150.000000  301.750000  \n",
       "max    5000.000000  107.000000  332.000000  350.000000  390.000000  "
      ]
     },
     "execution_count": 3,
     "metadata": {},
     "output_type": "execute_result"
    }
   ],
   "source": [
    "data.describe()"
   ]
  },
  {
   "cell_type": "code",
   "execution_count": 4,
   "metadata": {},
   "outputs": [],
   "source": [
    "# get Featur-Matrix and Target Variable\n",
    "X = data.drop(columns=(\"O3\"))\n",
    "y = data[\"O3\"]"
   ]
  },
  {
   "cell_type": "markdown",
   "metadata": {},
   "source": [
    "## Aufgabe 1.1 (Lineare Regression mittels K-fold X-Validation) [10 Punkte] <font color='red'>[7 Punkte]</font>\n",
    "\n",
    "1.  Führen Sie folgenden Code aus. Beschreiben Sie was die einzelnen Zeilen Code machen und deren Ergebnis. _Hinweis:_ Ermitteln Sie die Dimension von `X_train`, `X_test`, etc.\n",
    "\n",
    "```python\n",
    "from sklearn.model_selection import train_test_split\n",
    "X_train, X_test, y_train, y_test = train_test_split(X, y, test_size=0.2, random_state=11)\n",
    "```\n",
    "\n",
    "2. Trainieren Sie ein lineares Regressionsmodell auf den in 1. generierten Trainignsdaten. Berechnen Sie dann den RMSE für den Trainings und Testdatensatz.\n",
    "2. Erstellen Sie nun ein lineares Regressionsmodell mittels 10-facher Kreuzvalidierung, was aus den meterologischen Daten die Ozone-Konzentration in der Luft schätzt. Sie können dafür die oben angegebenen Funktionen `KFold`, `cross_validate` oder `cross_val_score` nutzen. Verwenden Sie als Gütemaß den _Root Mean Squared Error (RMSE)_.\n",
    "2. Was ist der RMSE für das in 3. trainierte Modell auf dem Trainings- und auf dem Testdatensatz? Und vergleichen Sie das Ergebnis mit dem RMSE aus Teil 2."
   ]
  },
  {
   "cell_type": "code",
   "execution_count": 106,
   "metadata": {},
   "outputs": [],
   "source": [
    "from sklearn.linear_model import LinearRegression\n",
    "from sklearn.model_selection import cross_val_score, cross_validate, KFold\n",
    "from sklearn.metrics import mean_squared_error\n",
    "import math"
   ]
  },
  {
   "cell_type": "markdown",
   "metadata": {},
   "source": [
    "### Lösung Aufgabe 1.1"
   ]
  },
  {
   "cell_type": "code",
   "execution_count": 108,
   "metadata": {},
   "outputs": [
    {
     "name": "stdout",
     "output_type": "stream",
     "text": [
      "X_train: (264, 9)  X_test: (66, 9)  y_train: (264,)  y_test: (66,)\n"
     ]
    }
   ],
   "source": [
    "# Teil 1\n",
    "from sklearn.model_selection import train_test_split\n",
    "\n",
    "# Split the data into training and testing sets (80% train, 20% test)\n",
    "X_train, X_test, y_train, y_test = train_test_split(X, y, test_size=0.2, random_state=11)\n",
    "\n",
    "# Dimensions\n",
    "print(\"X_train:\", X_train.shape, \n",
    "      \" X_test:\",X_test.shape,\n",
    "      \" y_train:\",y_train.shape,\n",
    "      \" y_test:\",y_test.shape)"
   ]
  },
  {
   "cell_type": "code",
   "execution_count": 109,
   "metadata": {},
   "outputs": [
    {
     "name": "stdout",
     "output_type": "stream",
     "text": [
      "Training RMSE:  4.146773431044413\n",
      "Test RMSE:  5.291577978960028\n"
     ]
    }
   ],
   "source": [
    "# Teil 2\n",
    "# Train a linear regression model on the training data\n",
    "linear_model = LinearRegression()\n",
    "linear_model.fit(X_train, y_train)\n",
    "\n",
    "# Predict on both training and testing sets\n",
    "y_train_pred = linear_model.predict(X_train)\n",
    "y_test_pred = linear_model.predict(X_test)\n",
    "\n",
    "# Calculate RMSE for training and testing sets\n",
    "rmse_train = math.sqrt(mean_squared_error(y_train, y_train_pred))\n",
    "rmse_test = math.sqrt(mean_squared_error(y_test, y_test_pred))\n",
    "\n",
    "print(\"Training RMSE: \",rmse_train)\n",
    "print(\"Test RMSE: \",rmse_test)"
   ]
  },
  {
   "cell_type": "code",
   "execution_count": 110,
   "metadata": {},
   "outputs": [
    {
     "data": {
      "text/plain": [
       "[4.351901896423391,\n",
       " 3.9716021000444823,\n",
       " 3.6548595489876723,\n",
       " 4.786566903694034,\n",
       " 4.105093315880854,\n",
       " 4.470256282961821,\n",
       " 4.163568693383782,\n",
       " 3.2916060851939672,\n",
       " 4.732674849370232,\n",
       " 5.17847018335439]"
      ]
     },
     "execution_count": 110,
     "metadata": {},
     "output_type": "execute_result"
    }
   ],
   "source": [
    "# Teil 3\n",
    "# Perform 10-fold cross-validation and calculate RMSE for each fold\n",
    "cv_scores = cross_val_score(linear_model, X_train, y_train, cv=10, scoring='neg_mean_squared_error')\n",
    "cv_rmse = [math.sqrt(-score) for score in cv_scores]\n",
    "\n",
    "cv_rmse"
   ]
  },
  {
   "cell_type": "code",
   "execution_count": 111,
   "metadata": {},
   "outputs": [
    {
     "name": "stdout",
     "output_type": "stream",
     "text": [
      "CV-Training RMSE: 4.302141784633056   CV-Test RMSE: 5.291577978960028\n"
     ]
    }
   ],
   "source": [
    "# Teil 4a\n",
    "from sklearn.model_selection import cross_val_predict\n",
    "\n",
    "# Perform 10-fold cross-validation to get predictions for training data\n",
    "train_cv_pred = cross_val_predict(linear_model, X_train, y_train, cv=10)\n",
    "\n",
    "# Calculate RMSE on the cross-validated predictions for the training data\n",
    "rmse_train_cv = math.sqrt(mean_squared_error(y_train, train_cv_pred))\n",
    "\n",
    "# Calculate RMSE on the test set predictions using the model trained on full training set\n",
    "rmse_test_cv = math.sqrt(mean_squared_error(y_test, y_test_pred))\n",
    "\n",
    "print(\"CV-Training RMSE:\",rmse_train_cv,\n",
    "      \"  CV-Test RMSE:\", rmse_test_cv)\n"
   ]
  },
  {
   "cell_type": "code",
   "execution_count": 112,
   "metadata": {},
   "outputs": [
    {
     "data": {
      "image/png": "[encoded data removed]",
      "text/plain": [
       "<Figure size 1000x600 with 1 Axes>"
      ]
     },
     "metadata": {},
     "output_type": "display_data"
    }
   ],
   "source": [
    "# Teil 4b\n",
    "# RMSE values to plot\n",
    "rmse_values = {\n",
    "    'Training RMSE (simple)': 4.15,\n",
    "    'Testing RMSE (simple)': 5.29,\n",
    "    'Training RMSE (cross-validated)': 4.30,\n",
    "    'Testing RMSE (cross-validated)': 5.29\n",
    "}\n",
    "\n",
    "# Plot the RMSE values for comparison\n",
    "plt.figure(figsize=(10, 6))\n",
    "plt.bar(rmse_values.keys(), rmse_values.values())\n",
    "plt.ylabel('RMSE')\n",
    "plt.title('Comparison of RMSE Values for Training and Testing Sets')\n",
    "plt.xticks(rotation=45)\n",
    "plt.show()\n"
   ]
  },
  {
   "cell_type": "markdown",
   "metadata": {},
   "source": [
    "Bei der Kreuzvalidierung ist der RMSE des Trainings (4.30) etwas größer als der RMSE des Trainings (4.15) bei der einfachen linearen Regression.\n",
    "Aber der Test RMSE ist in beiden Fällen gleich."
   ]
  },
  {
   "cell_type": "markdown",
   "metadata": {},
   "source": [
    "<font color='red'>\n",
    "Anmerkungen zu Aufgabe 1.1:\n",
    "\n",
    "* Erklärung fehlt\n",
    "* Teil 4) Sie müssen bei der XVal alle Daten X, y reingeben. Dort werden dann ja Testdaten gezogen und ein Testfehler berechnet. Der Testfehler. den Sie berechnen stammt noch von dem Holdout Split in 2)\n",
    "\n",
    "\n",
    "</font>\n"
   ]
  },
  {
   "cell_type": "markdown",
   "metadata": {},
   "source": [
    "## Aufgabe 1.2 (Finden des optimalen k im kNN) [10 Punkte] <font color='red'>[6 Punkte]</font>\n",
    "\n",
    "Ziel der Aufgabe ist die Erstellung eines kNN-Regressionsmodells, welches die O3-Konzentration auf Basis der anderen Variablen vorhersagt. Für die Wahl des \"besten\" Modells müssen Sie den optimalen Hyperparameter `k` bestimmen, welcher die Anzahl an Nachbarn im kNN-Modell angibt. In dieser Aufgabe sollen Sie für die Bestimmung das Cross-Validation Verfahren anwenden.\n",
    "\n",
    "1. Splitten Sie 20% des Datensatzen als Validierungsdaten ab. Benutzen Sie dafür die Funktion `train_test_split` mit `random_state = 123`. \n",
    "1. Trainieren Sie auf den restlichen Daten für jedes $k=1,...,50$ ein k-Nearest Neigbor Modelle mittels 10-facher Kreuzvalidierung.\n",
    "1. Visualisieren Sie den RMSE für die Trainingsdaten und Testdaten innerhalb der Kreuzvalidierung. Für welche $k$ tritt Overfitting ein?\n",
    "1. Für welches $k$ zeigt das kNN Modell die beste Güte bezogen auf den RMSE? \n",
    "1. Erstellen Sie ein finales Modell, indem Sie für das gefundene $k$ ein kNN auf den ganzen Trainingsdaten erzeugen.\n",
    "1. Validieren Sie das Modell auf den Validierungsdaten. Ist das gefundene Modell geeignet?"
   ]
  },
  {
   "cell_type": "code",
   "execution_count": 115,
   "metadata": {},
   "outputs": [],
   "source": [
    "from sklearn.neighbors import KNeighborsRegressor\n",
    "from sklearn.preprocessing import StandardScaler\n",
    "from sklearn.pipeline import Pipeline\n",
    "\n",
    "import math"
   ]
  },
  {
   "cell_type": "markdown",
   "metadata": {},
   "source": [
    "### Lösung Aufgabe 1.2"
   ]
  },
  {
   "cell_type": "code",
   "execution_count": 117,
   "metadata": {},
   "outputs": [],
   "source": [
    "# Teil 1\n",
    "# Split data (80% train, 20% validation) with random_state=123\n",
    "X_train, X_val, y_train, y_val = train_test_split(X, y, test_size=0.2, random_state=123)"
   ]
  },
  {
   "cell_type": "code",
   "execution_count": 134,
   "metadata": {},
   "outputs": [
    {
     "name": "stdout",
     "output_type": "stream",
     "text": [
      "[0.0, 2.785072492392036, 3.3657514507584825, 3.442403527399794, 3.608533656697018, 3.6170454347115513, 3.7679584422483776, 3.8449931778715536, 3.9423988151261935, 3.9415617578453706, 3.9579518908835234, 3.9757028527545506, 4.004180731627914, 4.020027071569714, 4.057970085168348, 4.048233984115977, 4.05123907093328, 4.095805981334778, 4.085747020622809, 4.106787157569255, 4.126332296731178, 4.1608593389187005, 4.153476573452223, 4.142493007416949, 4.1714527663415035, 4.18899432804173, 4.203772921998936, 4.224678674478971, 4.2180206489288015, 4.219939740581779, 4.235606635807676, 4.243405698394247, 4.26303737153831, 4.275404936405699, 4.284237480042986, 4.289813188725572, 4.323879289650979, 4.3318607702382295, 4.348421798715181, 4.3648735619856405, 4.386760289488637, 4.40978565742416, 4.419991390641073, 4.435031195618661, 4.459407681792278, 4.459719802735293, 4.4800733756182956, 4.499160545591168, 4.503966330701063, 4.530726913381159] [5.574808519446209, 5.10312805585123, 4.747910688267737, 4.607958323870769, 4.530225807721495, 4.5465340454600565, 4.52933471469377, 4.505836917637786, 4.502409478469786, 4.462165898016847, 4.485653107224914, 4.4416233701646926, 4.375018718366249, 4.403422477271946, 4.356281627370686, 4.33874791413707, 4.3877369823699865, 4.38995177684263, 4.389568919628812, 4.394823141105389, 4.389717678372012, 4.403120582322367, 4.414694328030185, 4.420714645664778, 4.428878836600495, 4.433697432277775, 4.442509383186834, 4.451027667607562, 4.452661286575723, 4.462966834531546, 4.465636554835235, 4.4840669782139315, 4.497875405646709, 4.518988791526988, 4.516173608215072, 4.528945315437042, 4.541849112660739, 4.54816889723006, 4.570391287773388, 4.592344841490281, 4.596980226737033, 4.625276879885879, 4.652927893392104, 4.66484463990696, 4.679789460056305, 4.685954956154469, 4.705617942398294, 4.710731119375411, 4.728899234593901, 4.75091020219155]\n"
     ]
    }
   ],
   "source": [
    "# Teil 2\n",
    "# Initialize lists to store RMSE for training and cross-validated test data\n",
    "train_rmse_list = []\n",
    "val_rmse_list = []\n",
    "k_values = range(1, 51)\n",
    "\n",
    "# Loop over k values from 1 to 50\n",
    "for k in k_values:\n",
    "    # Define kNN model with pipeline for scaling and training\n",
    "    model = Pipeline([\n",
    "        ('scaler', StandardScaler()),\n",
    "        ('knn', KNeighborsRegressor(n_neighbors=k))\n",
    "    ])\n",
    "    \n",
    "    # Cross-validation (10-fold) for the training data\n",
    "    cv_scores = cross_val_score(model, X_train, y_train, cv=10, scoring='neg_mean_squared_error')\n",
    "    cv_rmse = math.sqrt(-cv_scores.mean())\n",
    "    \n",
    "    # Fit the model on the entire training data and calculate training RMSE\n",
    "    model.fit(X_train, y_train)\n",
    "    train_pred = model.predict(X_train)\n",
    "    train_rmse = math.sqrt(mean_squared_error(y_train, train_pred))\n",
    "    \n",
    "    # Store RMSE values\n",
    "    train_rmse_list.append(train_rmse)\n",
    "    val_rmse_list.append(cv_rmse)\n",
    "print(train_rmse_list, val_rmse_list)\n",
    "    "
   ]
  },
  {
   "cell_type": "code",
   "execution_count": 119,
   "metadata": {},
   "outputs": [
    {
     "data": {
      "image/png": "[encoded data removed]",
      "text/plain": [
       "<Figure size 1200x600 with 1 Axes>"
      ]
     },
     "metadata": {},
     "output_type": "display_data"
    }
   ],
   "source": [
    "# Teil 3\n",
    "# Plotting the RMSE values for each k to analyze overfitting and find optimal k\n",
    "plt.figure(figsize=(12, 6))\n",
    "plt.plot(k_values, train_rmse_list, label='Training RMSE')\n",
    "plt.plot(k_values, val_rmse_list, label='Validation RMSE')\n",
    "plt.xlabel('k (Number of Neighbors)')\n",
    "plt.ylabel('RMSE')\n",
    "plt.title('Training and Validation RMSE for Different k in kNN')\n",
    "plt.legend()\n",
    "plt.show()"
   ]
  },
  {
   "cell_type": "markdown",
   "metadata": {},
   "source": [
    "# Teil 4\n",
    "Der Punkt, an dem der Validierungs-RMSE minimiert wird (etwa k=12), ist eine gute Wahl für das optimale k,\n",
    "da er den besten Kompromiss zwischen Bias und Varianz darstellt. So die Güte des Modells ist also am Punkt k=12 am besten."
   ]
  },
  {
   "cell_type": "code",
   "execution_count": 136,
   "metadata": {},
   "outputs": [
    {
     "data": {
      "text/plain": [
       "4.150169360870195"
      ]
     },
     "execution_count": 136,
     "metadata": {},
     "output_type": "execute_result"
    }
   ],
   "source": [
    "# Teil 5\n",
    "# Set optimal k value (k=12)\n",
    "optimal_k = 12\n",
    "\n",
    "# Define final kNN model with scaling and the optimal k\n",
    "final_model = Pipeline([\n",
    "    ('scaler', StandardScaler()),\n",
    "    ('knn', KNeighborsRegressor(n_neighbors=optimal_k))\n",
    "])\n",
    "\n",
    "# Train the final model on the entire training data\n",
    "final_model.fit(X_train, y_train)\n",
    "\n",
    "# Predict on the validation set\n",
    "y_val_pred = final_model.predict(X_val)\n",
    "\n",
    "# Calculate RMSE for the validation set\n",
    "rmse_val_final = math.sqrt(mean_squared_error(y_val, y_val_pred))\n",
    "rmse_val_final\n"
   ]
  },
  {
   "cell_type": "markdown",
   "metadata": {},
   "source": [
    "# Teil 6\n",
    "Dieser RMSE-Wert für die Validierungsdaten zeigt, dass das Modell gut geeignet ist, die Ozonkonzentration vorherzusagen."
   ]
  },
  {
   "cell_type": "markdown",
   "metadata": {},
   "source": [
    "<font color='red'>\n",
    "Anmerkungen zu Aufgabe 1.1:\n",
    "\n",
    "* Sie dürfen für den Trainingsfehler nicht ein neues Modell fitten. Nehmen Sie den Trainignsfehler aus der XVal. \n",
    "* Sie haben einen StandardScaler genommen. Dies ist erst in Aufgabe 1.3 verlangt. So sind die Ergebnisse nicht mit Aufgabe 1.3 vergleichbar. Auch das optimale k ist ein anderes.\n",
    "* Wann tritt Overfitting ein?\n",
    "\n",
    "</font>"
   ]
  },
  {
   "cell_type": "markdown",
   "metadata": {},
   "source": [
    "## Aufgabe 1.3  [10 Punkte] <font color='red'>[6 Punkte]</font>\n",
    "1. Betrachten Sie den `Ozone` Datensatz. Was für ein Problem könnte hier beim Training eines Modells auftreten? \n",
    "1. Informieren Sie sich über die Funktion `StandardScaler()` im Paket `sklearn.preprocessing`. Welche Transformation der Features führt diese aus? \n",
    "1. Führen Sie wie in der Aufgabe davor eine 10-fache kreuzvalidierung durch, zur Bestimmung des optimalen $k=1,...,50$ für ein k-Nearest Neighbor Modell, jedoch für skalierte Feature. Sie können dabei den gleichen Validierungsdatensatz wie in der vorherigen Aufgabe verwenden. Berechnen Sie auch hier jeweils den RMSE. Welches $k$ ist in diesem Fall optimal?\n",
    "1. Trainieren Sie wieder ein finales Modell auf allen Trainignsdaten für das von Ihnen gefundenen optimale $k$ und validieren Sie dieses auf dem Validierungsdatensatz. Vergleichen Sie das Ergebnis mit dem aus der vorherigen Aufgabe.\n",
    "\n",
    "_Hinweise:_ \n",
    "* Achten Sie darauf, dass Sie bei der Erstellung der Modelle in der Kreuzvalidierung Training und Test sauber trennen. Dies gilt auch insbesondere für die Skalierung! \n",
    "* Machen Sie sich also Gedanken über die Reihenfolde der einzelnen Schritte, bevor Sie den Algorithmus implementieren.\n",
    "* Die Funktion `Pipeline` in `sklearn.pipeline` kann hier sehr nützlich sein."
   ]
  },
  {
   "cell_type": "markdown",
   "metadata": {
    "tags": []
   },
   "source": [
    "### Lösung Aufgabe 1.3"
   ]
  },
  {
   "cell_type": "markdown",
   "metadata": {},
   "source": [
    "# Teil 1\n",
    "Feature - Skalierung: Einige Merkmale haben sehr unterschiedliche Wertebereiche. Dies kann dazu führen, dass ein Modell wie kNN, \n",
    "das auf Distanzen basiert, gegenüber größeren Wertebereichen verzerrt ist.\n",
    "\n",
    "# Teil 2\n",
    "StandardScaler ist eine Vorverarbeitungstechnik in scikit-learn, die die Verteilung jedes Merkmals so transformiert, \n",
    "dass der Mittelwert Null und die Standardabweichung Eins ist.\n",
    "Dies sorgt dafür, dass alle Merkmale im gleichen Wertebereich liegen, was insbesondere bei kNN nützlich ist, da es auf Distanzen basiert."
   ]
  },
  {
   "cell_type": "code",
   "execution_count": 138,
   "metadata": {},
   "outputs": [
    {
     "data": {
      "image/png": "[encoded data removed]",
      "text/plain": [
       "<Figure size 1200x600 with 1 Axes>"
      ]
     },
     "metadata": {},
     "output_type": "display_data"
    }
   ],
   "source": [
    "# Teil 3\n",
    "# Scale the entire dataset\n",
    "scaler = StandardScaler()\n",
    "X_scaled = scaler.fit_transform(X)\n",
    "\n",
    "# Initialize lists to store RMSE for training and cross-validated test data\n",
    "train_rmse_list = []\n",
    "val_rmse_list = []\n",
    "k_values = range(1, 51)\n",
    "\n",
    "# Loop over k values from 1 to 50 and perform 10-fold cross-validation\n",
    "for k in k_values:\n",
    "    # Define kNN model with the optimal k without re-scaling\n",
    "    knn = KNeighborsRegressor(n_neighbors=k)\n",
    "    \n",
    "    # Cross-validation (10-fold) on the already scaled dataset\n",
    "    cv_scores = cross_val_score(knn, X_scaled, y, cv=10, scoring='neg_mean_squared_error')\n",
    "    cv_rmse = math.sqrt(-cv_scores.mean())\n",
    "    \n",
    "    # Fit the model on the entire scaled dataset and calculate training RMSE\n",
    "    knn.fit(X_scaled, y)\n",
    "    train_pred = knn.predict(X_scaled)\n",
    "    train_rmse = math.sqrt(mean_squared_error(y, train_pred))\n",
    "    \n",
    "    # Store RMSE values\n",
    "    train_rmse_list.append(train_rmse)\n",
    "    val_rmse_list.append(cv_rmse)\n",
    "\n",
    "# Plotting the RMSE values for each k to analyze overfitting and find optimal k\n",
    "plt.figure(figsize=(12, 6))\n",
    "plt.plot(k_values, train_rmse_list, label='Training RMSE')\n",
    "plt.plot(k_values, val_rmse_list, label='Validation RMSE')\n",
    "plt.xlabel('k (Number of Neighbors)')\n",
    "plt.ylabel('RMSE')\n",
    "plt.title('Training and Validation RMSE for Different k in kNN (Fully Scaled Dataset)')\n",
    "plt.legend()\n",
    "plt.show()"
   ]
  },
  {
   "cell_type": "code",
   "execution_count": 140,
   "metadata": {},
   "outputs": [
    {
     "data": {
      "text/plain": [
       "4.817422578189089"
      ]
     },
     "execution_count": 140,
     "metadata": {},
     "output_type": "execute_result"
    }
   ],
   "source": [
    "# Teil 4\n",
    "# Set optimal k value based on analysis (k=14)\n",
    "optimal_k = 14\n",
    "\n",
    "# Define final kNN model with the chosen k without re-scaling (since the dataset is already scaled)\n",
    "final_knn_model = KNeighborsRegressor(n_neighbors=optimal_k)\n",
    "\n",
    "# Fit the model on the entire scaled dataset\n",
    "final_knn_model.fit(X_scaled, y)\n",
    "\n",
    "# Since we do not have a separate test/validation set here due to using the entire dataset for scaling,\n",
    "# the model's generalization would be confirmed by its cross-validated score rather than a new validation set.\n",
    "# For a final test, we might ideally apply it to an external dataset.\n",
    "\n",
    "# Validate model using cross-validated RMSE as final check\n",
    "final_cv_scores = cross_val_score(final_knn_model, X_scaled, y, cv=10, scoring='neg_mean_squared_error')\n",
    "final_cv_rmse = math.sqrt(-final_cv_scores.mean())\n",
    "\n",
    "final_cv_rmse\n"
   ]
  },
  {
   "cell_type": "markdown",
   "metadata": {},
   "source": [
    "<font color='red'>\n",
    "Anmerkungen zu Aufgabe 1.3:\n",
    "\n",
    "* Sie dürfen nicht die gesamte Featurematrix skalieren. Sie müssen den Scaler nur auf den Trainingsdaten fitten und dann auf die Testdaten anwenden!\n",
    "\n",
    "* Sie sollten erst einen Validierungsdatensatz abspalten und auf den restlichen Daten eine XVal durchnehmen. Wie Sie es gemacht haben, können Sie nicht korrekt validieren, ob Sie nicht in der Wahl des k einen Bias haben.\n",
    "\n",
    "</font>\n",
    "\n"
   ]
  },
  {
   "cell_type": "markdown",
   "metadata": {},
   "source": [
    "# 2. Bootstrapverfahren"
   ]
  },
  {
   "cell_type": "markdown",
   "metadata": {},
   "source": [
    "## Aufgabe 2.1 [2 Punkte] <font color='red'>[0,5 Punkte]</font>\n",
    "\n",
    "Sei $B$ die Anzahl an Bootstrap Datensätzen. In der Vorlesung wurde gesagt, dass sich für großes $B$ das Bootstrap-Verfahren so verhält wie eine Leave-one-out CV. Geben Sie dafür eine Begründung an."
   ]
  },
  {
   "cell_type": "markdown",
   "metadata": {},
   "source": [
    "### Antwort zu Aufgabe 2.1\n",
    "Für großes ( B ) nähert sich das Bootstrap-Verfahren der Leave-One-Out Cross-Validation an, weil, die Varianz der Bootstrap-Schätzungen wird für großes ( B ) klein, was zu stabilen und verlässlichen Schätzungen führt.\n"
   ]
  },
  {
   "cell_type": "markdown",
   "metadata": {},
   "source": [
    "<font color='red'>\n",
    "Anmerkungen zu Aufgabe 2.1:\n",
    "\n",
    "* Zu ungenau\n",
    "\n",
    "</font>\n"
   ]
  },
  {
   "cell_type": "markdown",
   "metadata": {},
   "source": [
    "# 3. Einführung in  Pytorch\n",
    "\n",
    "In den nächsten Aufgabenblättern werden wir PyTorch verwenden, um Neuronale Netze zu trainieren. Dieser Abschnitt dient dazu sich selbstständig mit PyTorch vertraut zu machen."
   ]
  },
  {
   "cell_type": "markdown",
   "metadata": {
    "jp-MarkdownHeadingCollapsed": true,
    "tags": []
   },
   "source": [
    "## Aufgabe 3.1 [0 Punkte]\n",
    "\n",
    "Beschäftigen Sie sich mit Pytorch, in dem Sie z.B. einige der folgenden Tutorien durchspielen.\n",
    "\n",
    "**Tutorien:**\n",
    "\n",
    "* https://pytorch.org/tutorials/beginner/deep_learning_60min_blitz.html\n",
    "\n",
    "* https://cs230.stanford.edu/blog/pytorch/\n",
    "\n",
    "* https://towardsdatascience.com/understanding-pytorch-with-an-example-a-step-by-step-tutorial-81fc5f8c4e8e"
   ]
  },
  {
   "cell_type": "markdown",
   "metadata": {},
   "source": [
    "## Aufgabe 3.2 [0 Punkte]\n",
    "\n",
    "Im unten liegenden Code wird eine Lineare Regression auf dem Datensatz `Ozone` zur Vorhersage von `O3` in PyTorch trainiert. Schauen Sie sich den Code an und versuchen Sie die einzelnen Schritte nachzuvollziehen."
   ]
  },
  {
   "cell_type": "code",
   "execution_count": 5,
   "metadata": {},
   "outputs": [],
   "source": [
    "## load Packages\n",
    "from sklearn.model_selection import train_test_split\n",
    "from sklearn.preprocessing import StandardScaler\n",
    "import numpy as np\n",
    "import matplotlib.pyplot as plt\n",
    "\n",
    "import torch\n",
    "import torch.nn as net\n",
    "import torch.nn.functional as F\n",
    "import torch.optim as optim\n",
    "\n",
    "%matplotlib inline\n",
    "plt.style.use('ggplot')"
   ]
  },
  {
   "cell_type": "markdown",
   "metadata": {},
   "source": [
    "**Preprocessing**"
   ]
  },
  {
   "cell_type": "code",
   "execution_count": 6,
   "metadata": {},
   "outputs": [],
   "source": [
    "# Split data into training and test set\n",
    "X_train, X_test, y_train, y_test = train_test_split(X, y, test_size = 0.2, random_state=12)"
   ]
  },
  {
   "cell_type": "code",
   "execution_count": 7,
   "metadata": {},
   "outputs": [],
   "source": [
    "# Scale Variables (StandardScaler)\n",
    "sc = StandardScaler()\n",
    "\n",
    "# fit & transform scaler\n",
    "X_train = sc.fit_transform(X_train)\n",
    "\n",
    "# apply scaler to test set\n",
    "X_test = sc.transform(X_test)"
   ]
  },
  {
   "cell_type": "code",
   "execution_count": 8,
   "metadata": {},
   "outputs": [
    {
     "data": {
      "text/plain": [
       "array([[-0.3615906 , -0.42723728, -2.00432731, ..., -0.90802897,\n",
       "         2.20163518,  1.73683713],\n",
       "       [ 1.03811494, -0.42723728,  0.63402779, ..., -0.00425478,\n",
       "        -0.93710382,  0.74442321],\n",
       "       [ 0.85148754,  0.03313269, -2.00432731, ...,  0.163589  ,\n",
       "         0.94613958, -1.58774949],\n",
       "       ...,\n",
       "       [ 0.38491902,  1.41424259,  1.09066617, ..., -0.86929579,\n",
       "        -0.0582569 ,  0.88336116],\n",
       "       [ 1.31805605,  0.03313269, -2.00432731, ...,  0.47345443,\n",
       "        -0.56045514,  1.00245083],\n",
       "       [ 1.03811494, -0.88760725,  0.2788646 , ...,  0.75749775,\n",
       "        -1.35141737, -0.10905276]])"
      ]
     },
     "execution_count": 8,
     "metadata": {},
     "output_type": "execute_result"
    }
   ],
   "source": [
    "X_train"
   ]
  },
  {
   "cell_type": "code",
   "execution_count": 9,
   "metadata": {},
   "outputs": [],
   "source": [
    "## To Tensor\n",
    "x_train_ts = torch.tensor(X_train, dtype=torch.float)\n",
    "x_test_ts = torch.tensor(X_test, dtype=torch.float)\n",
    "\n",
    "y_train_ts = torch.tensor(y_train.to_numpy(), dtype=torch.float).view(-1,1)\n",
    "y_test_ts = torch.tensor(y_test.to_numpy(), dtype=torch.float).view(-1,1)"
   ]
  },
  {
   "cell_type": "code",
   "execution_count": 10,
   "metadata": {},
   "outputs": [
    {
     "data": {
      "text/plain": [
       "(torch.Size([264, 9]), torch.Size([264, 1]))"
      ]
     },
     "execution_count": 10,
     "metadata": {},
     "output_type": "execute_result"
    }
   ],
   "source": [
    "x_train_ts.shape, y_train_ts.shape"
   ]
  },
  {
   "cell_type": "markdown",
   "metadata": {},
   "source": [
    "**Define Hyper-Parameter, Model and Optimizer**"
   ]
  },
  {
   "cell_type": "code",
   "execution_count": 11,
   "metadata": {},
   "outputs": [
    {
     "data": {
      "text/plain": [
       "<torch._C.Generator at 0x23fa42d5510>"
      ]
     },
     "execution_count": 11,
     "metadata": {},
     "output_type": "execute_result"
    }
   ],
   "source": [
    "# Define Hyper-Parameters\n",
    "n_iterations = 40\n",
    "learning_rate = 0.05\n",
    "\n",
    "random_seed = 12\n",
    "torch.manual_seed(random_seed)"
   ]
  },
  {
   "cell_type": "code",
   "execution_count": 12,
   "metadata": {},
   "outputs": [],
   "source": [
    "# Definition of the linear regression model\n",
    "class LinReg(net.Module):\n",
    "    def __init__(self):\n",
    "        super(LinReg, self).__init__()\n",
    "        self.linear = net.Linear(9, 1)\n",
    "\n",
    "    def forward(self, x):\n",
    "        x = self.linear(x)\n",
    "        return x"
   ]
  },
  {
   "cell_type": "code",
   "execution_count": 13,
   "metadata": {},
   "outputs": [],
   "source": [
    "# Initialize Linear Regression & Optimizer (Gradient Descent)\n",
    "linear_regression = LinReg()\n",
    "optimizer = optim.SGD(linear_regression.parameters(), lr=learning_rate)"
   ]
  },
  {
   "cell_type": "markdown",
   "metadata": {},
   "source": [
    "**Run Training**"
   ]
  },
  {
   "cell_type": "code",
   "execution_count": 14,
   "metadata": {},
   "outputs": [],
   "source": [
    "# Define variable to save the loss for each iteration\n",
    "train_losses = []\n",
    "test_losses = []"
   ]
  },
  {
   "cell_type": "code",
   "execution_count": 15,
   "metadata": {},
   "outputs": [
    {
     "name": "stdout",
     "output_type": "stream",
     "text": [
      "Iteration 1, Train set - loss: 14.136 | Test set - Loss: 11.78\n",
      "Iteration 2, Train set - loss: 12.302 | Test set - Loss: 10.525\n",
      "Iteration 3, Train set - loss: 10.974 | Test set - Loss: 9.559\n",
      "Iteration 4, Train set - loss: 9.94 | Test set - Loss: 8.776\n",
      "Iteration 5, Train set - loss: 9.096 | Test set - Loss: 8.121\n",
      "Iteration 6, Train set - loss: 8.385 | Test set - Loss: 7.563\n",
      "Iteration 7, Train set - loss: 7.778 | Test set - Loss: 7.086\n",
      "Iteration 8, Train set - loss: 7.257 | Test set - Loss: 6.677\n",
      "Iteration 9, Train set - loss: 6.81 | Test set - Loss: 6.328\n",
      "Iteration 10, Train set - loss: 6.427 | Test set - Loss: 6.031\n",
      "Iteration 11, Train set - loss: 6.1 | Test set - Loss: 5.78\n",
      "Iteration 12, Train set - loss: 5.821 | Test set - Loss: 5.568\n",
      "Iteration 13, Train set - loss: 5.585 | Test set - Loss: 5.391\n",
      "Iteration 14, Train set - loss: 5.386 | Test set - Loss: 5.243\n",
      "Iteration 15, Train set - loss: 5.219 | Test set - Loss: 5.12\n",
      "Iteration 16, Train set - loss: 5.079 | Test set - Loss: 5.019\n",
      "Iteration 17, Train set - loss: 4.962 | Test set - Loss: 4.936\n",
      "Iteration 18, Train set - loss: 4.865 | Test set - Loss: 4.868\n",
      "Iteration 19, Train set - loss: 4.784 | Test set - Loss: 4.812\n",
      "Iteration 20, Train set - loss: 4.717 | Test set - Loss: 4.767\n",
      "Iteration 21, Train set - loss: 4.662 | Test set - Loss: 4.73\n",
      "Iteration 22, Train set - loss: 4.616 | Test set - Loss: 4.701\n",
      "Iteration 23, Train set - loss: 4.577 | Test set - Loss: 4.677\n",
      "Iteration 24, Train set - loss: 4.546 | Test set - Loss: 4.658\n",
      "Iteration 25, Train set - loss: 4.519 | Test set - Loss: 4.642\n",
      "Iteration 26, Train set - loss: 4.498 | Test set - Loss: 4.63\n",
      "Iteration 27, Train set - loss: 4.479 | Test set - Loss: 4.621\n",
      "Iteration 28, Train set - loss: 4.464 | Test set - Loss: 4.613\n",
      "Iteration 29, Train set - loss: 4.451 | Test set - Loss: 4.607\n",
      "Iteration 30, Train set - loss: 4.44 | Test set - Loss: 4.602\n",
      "Iteration 31, Train set - loss: 4.431 | Test set - Loss: 4.598\n",
      "Iteration 32, Train set - loss: 4.423 | Test set - Loss: 4.596\n",
      "Iteration 33, Train set - loss: 4.416 | Test set - Loss: 4.593\n",
      "Iteration 34, Train set - loss: 4.41 | Test set - Loss: 4.592\n",
      "Iteration 35, Train set - loss: 4.405 | Test set - Loss: 4.591\n",
      "Iteration 36, Train set - loss: 4.4 | Test set - Loss: 4.59\n",
      "Iteration 37, Train set - loss: 4.396 | Test set - Loss: 4.59\n",
      "Iteration 38, Train set - loss: 4.392 | Test set - Loss: 4.589\n",
      "Iteration 39, Train set - loss: 4.389 | Test set - Loss: 4.589\n",
      "Iteration 40, Train set - loss: 4.386 | Test set - Loss: 4.589\n"
     ]
    }
   ],
   "source": [
    "# Run Training\n",
    "# Performe Parameter-Update in every Iteration via Gradient Descent\n",
    "\n",
    "for epoch in range(1, n_iterations + 1):\n",
    "    \n",
    "    # --- Training ----#\n",
    "    optimizer.zero_grad()                           # Gradienten der parameter werden auf 0 gesetzt\n",
    "    y_pred = linear_regression(x_train_ts)          # Prediction\n",
    "    train_loss = F.mse_loss(y_pred, y_train_ts)    # Calc loss\n",
    "    train_loss.backward()                           # Calc gradients / Backpropagation\n",
    "    optimizer.step()                                 # Update parameter: w = w - learning_rate * grad\n",
    "     \n",
    "    \n",
    "    # ----- Evaluation metrics train ---- #\n",
    "    train_losses.append(np.sqrt(train_loss.item()))\n",
    "    \n",
    "    # ----- Test Prediction & Evaluation -------------#\n",
    "    y_test_pred = linear_regression(x_test_ts)\n",
    "    \n",
    "    # Loss\n",
    "    test_loss = F.mse_loss(y_test_pred, y_test_ts)\n",
    "    test_losses.append(np.sqrt(test_loss.item()))\n",
    "    \n",
    "    # Print Validation criteria\n",
    "    print(f'''Iteration {epoch}, Train set - loss: {round(np.sqrt(train_loss.item()), 3)} | Test set - Loss: {round(np.sqrt(test_loss.item()), 3)}''')"
   ]
  },
  {
   "cell_type": "markdown",
   "metadata": {},
   "source": [
    "**Visualize Training Process**"
   ]
  },
  {
   "cell_type": "code",
   "execution_count": 16,
   "metadata": {},
   "outputs": [
    {
     "data": {
      "image/png": "[encoded data removed]",
      "text/plain": [
       "<Figure size 640x480 with 1 Axes>"
      ]
     },
     "metadata": {},
     "output_type": "display_data"
    }
   ],
   "source": [
    "# Visualize Training process\n",
    "plt.plot(train_losses, label=\"Training\")\n",
    "plt.plot(test_losses, c='blue', label=\"Test\")\n",
    "plt.title(\"RMSE-Loss of Training\")\n",
    "plt.xlabel(\"Iteration\")\n",
    "plt.ylabel(\"RMSE\")\n",
    "plt.legend()\n",
    "plt.show()"
   ]
  },
  {
   "cell_type": "markdown",
   "metadata": {
    "tags": []
   },
   "source": [
    "## Aufgabe 3.2 (Zusatzaufgabe) (Logistische Regression in PyTorch) [4 Punkte*] <font color='red'>[2,5 Punkte]</font>\n",
    "**Diese Punkte sind nicht relevant für die Bestimmung der Bestehensgrenze, können aber von Ihnen als Zusatzpunkte gesammelt werden.**\n",
    "\n",
    "Der _Wisconsin Breast Cancer_ Datensatz enthält Messwerte von Gewebeproben der Brust, sowie eine Variable `diagnosis`, welche angibt, ob die Gewebeprobe tumorös (1) oder gesund ist (0). Weitere Informationen finden Sie hier: https://archive.ics.uci.edu/ml/datasets/Breast+Cancer+Wisconsin+(Diagnostic)\n",
    "\n",
    "Schreiben Sie den obigen Code um, so dass Sie eine logistische Regression trainieren, welche basierend auf den Messwerten erkennt, ob eine vorliegnde Gewebeprobe tumorös oder nicht-tumorös ist. Benutzen Sie als Verlustfunktion die Cross-Entropy. Was ist die Accuracy auf den Trainingsdaten? "
   ]
  },
  {
   "cell_type": "markdown",
   "metadata": {},
   "source": [
    "### Lösung Aufgabe 3.2"
   ]
  },
  {
   "cell_type": "code",
   "execution_count": 17,
   "metadata": {},
   "outputs": [
    {
     "data": {
      "text/html": [
       "<div>\n",
       "<style scoped>\n",
       "    .dataframe tbody tr th:only-of-type {\n",
       "        vertical-align: middle;\n",
       "    }\n",
       "\n",
       "    .dataframe tbody tr th {\n",
       "        vertical-align: top;\n",
       "    }\n",
       "\n",
       "    .dataframe thead th {\n",
       "        text-align: right;\n",
       "    }\n",
       "</style>\n",
       "<table border=\"1\" class=\"dataframe\">\n",
       "  <thead>\n",
       "    <tr style=\"text-align: right;\">\n",
       "      <th></th>\n",
       "      <th>mean radius</th>\n",
       "      <th>mean texture</th>\n",
       "      <th>mean perimeter</th>\n",
       "      <th>mean area</th>\n",
       "      <th>mean smoothness</th>\n",
       "      <th>mean compactness</th>\n",
       "      <th>mean concavity</th>\n",
       "      <th>mean concave points</th>\n",
       "      <th>mean symmetry</th>\n",
       "      <th>mean fractal dimension</th>\n",
       "      <th>...</th>\n",
       "      <th>worst texture</th>\n",
       "      <th>worst perimeter</th>\n",
       "      <th>worst area</th>\n",
       "      <th>worst smoothness</th>\n",
       "      <th>worst compactness</th>\n",
       "      <th>worst concavity</th>\n",
       "      <th>worst concave points</th>\n",
       "      <th>worst symmetry</th>\n",
       "      <th>worst fractal dimension</th>\n",
       "      <th>diagnosis</th>\n",
       "    </tr>\n",
       "  </thead>\n",
       "  <tbody>\n",
       "    <tr>\n",
       "      <th>0</th>\n",
       "      <td>17.99</td>\n",
       "      <td>10.38</td>\n",
       "      <td>122.80</td>\n",
       "      <td>1001.0</td>\n",
       "      <td>0.11840</td>\n",
       "      <td>0.27760</td>\n",
       "      <td>0.3001</td>\n",
       "      <td>0.14710</td>\n",
       "      <td>0.2419</td>\n",
       "      <td>0.07871</td>\n",
       "      <td>...</td>\n",
       "      <td>17.33</td>\n",
       "      <td>184.60</td>\n",
       "      <td>2019.0</td>\n",
       "      <td>0.1622</td>\n",
       "      <td>0.6656</td>\n",
       "      <td>0.7119</td>\n",
       "      <td>0.2654</td>\n",
       "      <td>0.4601</td>\n",
       "      <td>0.11890</td>\n",
       "      <td>0</td>\n",
       "    </tr>\n",
       "    <tr>\n",
       "      <th>1</th>\n",
       "      <td>20.57</td>\n",
       "      <td>17.77</td>\n",
       "      <td>132.90</td>\n",
       "      <td>1326.0</td>\n",
       "      <td>0.08474</td>\n",
       "      <td>0.07864</td>\n",
       "      <td>0.0869</td>\n",
       "      <td>0.07017</td>\n",
       "      <td>0.1812</td>\n",
       "      <td>0.05667</td>\n",
       "      <td>...</td>\n",
       "      <td>23.41</td>\n",
       "      <td>158.80</td>\n",
       "      <td>1956.0</td>\n",
       "      <td>0.1238</td>\n",
       "      <td>0.1866</td>\n",
       "      <td>0.2416</td>\n",
       "      <td>0.1860</td>\n",
       "      <td>0.2750</td>\n",
       "      <td>0.08902</td>\n",
       "      <td>0</td>\n",
       "    </tr>\n",
       "    <tr>\n",
       "      <th>2</th>\n",
       "      <td>19.69</td>\n",
       "      <td>21.25</td>\n",
       "      <td>130.00</td>\n",
       "      <td>1203.0</td>\n",
       "      <td>0.10960</td>\n",
       "      <td>0.15990</td>\n",
       "      <td>0.1974</td>\n",
       "      <td>0.12790</td>\n",
       "      <td>0.2069</td>\n",
       "      <td>0.05999</td>\n",
       "      <td>...</td>\n",
       "      <td>25.53</td>\n",
       "      <td>152.50</td>\n",
       "      <td>1709.0</td>\n",
       "      <td>0.1444</td>\n",
       "      <td>0.4245</td>\n",
       "      <td>0.4504</td>\n",
       "      <td>0.2430</td>\n",
       "      <td>0.3613</td>\n",
       "      <td>0.08758</td>\n",
       "      <td>0</td>\n",
       "    </tr>\n",
       "    <tr>\n",
       "      <th>3</th>\n",
       "      <td>11.42</td>\n",
       "      <td>20.38</td>\n",
       "      <td>77.58</td>\n",
       "      <td>386.1</td>\n",
       "      <td>0.14250</td>\n",
       "      <td>0.28390</td>\n",
       "      <td>0.2414</td>\n",
       "      <td>0.10520</td>\n",
       "      <td>0.2597</td>\n",
       "      <td>0.09744</td>\n",
       "      <td>...</td>\n",
       "      <td>26.50</td>\n",
       "      <td>98.87</td>\n",
       "      <td>567.7</td>\n",
       "      <td>0.2098</td>\n",
       "      <td>0.8663</td>\n",
       "      <td>0.6869</td>\n",
       "      <td>0.2575</td>\n",
       "      <td>0.6638</td>\n",
       "      <td>0.17300</td>\n",
       "      <td>0</td>\n",
       "    </tr>\n",
       "    <tr>\n",
       "      <th>4</th>\n",
       "      <td>20.29</td>\n",
       "      <td>14.34</td>\n",
       "      <td>135.10</td>\n",
       "      <td>1297.0</td>\n",
       "      <td>0.10030</td>\n",
       "      <td>0.13280</td>\n",
       "      <td>0.1980</td>\n",
       "      <td>0.10430</td>\n",
       "      <td>0.1809</td>\n",
       "      <td>0.05883</td>\n",
       "      <td>...</td>\n",
       "      <td>16.67</td>\n",
       "      <td>152.20</td>\n",
       "      <td>1575.0</td>\n",
       "      <td>0.1374</td>\n",
       "      <td>0.2050</td>\n",
       "      <td>0.4000</td>\n",
       "      <td>0.1625</td>\n",
       "      <td>0.2364</td>\n",
       "      <td>0.07678</td>\n",
       "      <td>0</td>\n",
       "    </tr>\n",
       "  </tbody>\n",
       "</table>\n",
       "<p>5 rows × 31 columns</p>\n",
       "</div>"
      ],
      "text/plain": [
       "   mean radius  mean texture  mean perimeter  mean area  mean smoothness  \\\n",
       "0        17.99         10.38          122.80     1001.0          0.11840   \n",
       "1        20.57         17.77          132.90     1326.0          0.08474   \n",
       "2        19.69         21.25          130.00     1203.0          0.10960   \n",
       "3        11.42         20.38           77.58      386.1          0.14250   \n",
       "4        20.29         14.34          135.10     1297.0          0.10030   \n",
       "\n",
       "   mean compactness  mean concavity  mean concave points  mean symmetry  \\\n",
       "0           0.27760          0.3001              0.14710         0.2419   \n",
       "1           0.07864          0.0869              0.07017         0.1812   \n",
       "2           0.15990          0.1974              0.12790         0.2069   \n",
       "3           0.28390          0.2414              0.10520         0.2597   \n",
       "4           0.13280          0.1980              0.10430         0.1809   \n",
       "\n",
       "   mean fractal dimension  ...  worst texture  worst perimeter  worst area  \\\n",
       "0                 0.07871  ...          17.33           184.60      2019.0   \n",
       "1                 0.05667  ...          23.41           158.80      1956.0   \n",
       "2                 0.05999  ...          25.53           152.50      1709.0   \n",
       "3                 0.09744  ...          26.50            98.87       567.7   \n",
       "4                 0.05883  ...          16.67           152.20      1575.0   \n",
       "\n",
       "   worst smoothness  worst compactness  worst concavity  worst concave points  \\\n",
       "0            0.1622             0.6656           0.7119                0.2654   \n",
       "1            0.1238             0.1866           0.2416                0.1860   \n",
       "2            0.1444             0.4245           0.4504                0.2430   \n",
       "3            0.2098             0.8663           0.6869                0.2575   \n",
       "4            0.1374             0.2050           0.4000                0.1625   \n",
       "\n",
       "   worst symmetry  worst fractal dimension  diagnosis  \n",
       "0          0.4601                  0.11890          0  \n",
       "1          0.2750                  0.08902          0  \n",
       "2          0.3613                  0.08758          0  \n",
       "3          0.6638                  0.17300          0  \n",
       "4          0.2364                  0.07678          0  \n",
       "\n",
       "[5 rows x 31 columns]"
      ]
     },
     "execution_count": 17,
     "metadata": {},
     "output_type": "execute_result"
    }
   ],
   "source": [
    "## Load Data\n",
    "from sklearn.datasets import load_breast_cancer\n",
    "cancer_dataset = load_breast_cancer()\n",
    "cancer = pd.DataFrame(cancer_dataset.data, columns=cancer_dataset.feature_names)\n",
    "cancer[\"diagnosis\"] = cancer_dataset.target\n",
    "cancer.head()"
   ]
  },
  {
   "cell_type": "code",
   "execution_count": 18,
   "metadata": {},
   "outputs": [],
   "source": [
    "# Split data into training and test set\n",
    "X_train, X_test, y_train, y_test = train_test_split(cancer_dataset.data, cancer_dataset.target, test_size = 0.2, random_state=12)"
   ]
  },
  {
   "cell_type": "code",
   "execution_count": 19,
   "metadata": {},
   "outputs": [],
   "source": [
    "# Scale Variables (StandardScaler)\n",
    "sc = StandardScaler()\n",
    "\n",
    "# fit & transform scaler\n",
    "X_train = sc.fit_transform(X_train)\n",
    "\n",
    "# apply scaler to test set\n",
    "X_test = sc.transform(X_test)"
   ]
  },
  {
   "cell_type": "code",
   "execution_count": 20,
   "metadata": {},
   "outputs": [],
   "source": [
    "## To Tensor\n",
    "x_train_ts = torch.tensor(X_train, dtype=torch.float)\n",
    "x_test_ts = torch.tensor(X_test, dtype=torch.float)\n",
    "\n",
    "y_train_ts = torch.tensor(y_train, dtype=torch.long).view(-1,1)\n",
    "y_test_ts = torch.tensor(y_test, dtype=torch.long).view(-1,1)"
   ]
  },
  {
   "cell_type": "code",
   "execution_count": 21,
   "metadata": {},
   "outputs": [
    {
     "data": {
      "text/plain": [
       "(torch.Size([455, 30]), torch.Size([455, 1]))"
      ]
     },
     "execution_count": 21,
     "metadata": {},
     "output_type": "execute_result"
    }
   ],
   "source": [
    "x_train_ts.shape, y_train_ts.shape"
   ]
  },
  {
   "cell_type": "markdown",
   "metadata": {},
   "source": [
    "**Ihr Code ab hier**"
   ]
  },
  {
   "cell_type": "code",
   "execution_count": 22,
   "metadata": {
    "collapsed": true,
    "jupyter": {
     "outputs_hidden": true
    }
   },
   "outputs": [],
   "source": [
    "class LogisticRegression(torch.nn.Module):\n",
    "    def __init__(self):\n",
    "        super(LogisticRegression, self).__init__()\n",
    "        self.linear = net.Linear(30, 1)\n",
    "\n",
    "    def forward(self, x):\n",
    "        x = torch.sigmoid(self.linear(x))\n",
    "        return x"
   ]
  },
  {
   "cell_type": "code",
   "execution_count": 23,
   "metadata": {},
   "outputs": [],
   "source": [
    "log_reg = LogisticRegression()\n",
    "optimizer = optim.SGD(log_reg.parameters(), lr=0.05)"
   ]
  },
  {
   "cell_type": "code",
   "execution_count": 24,
   "metadata": {},
   "outputs": [],
   "source": [
    "train_losses_log = []\n",
    "test_losses_log = []"
   ]
  },
  {
   "cell_type": "code",
   "execution_count": 25,
   "metadata": {},
   "outputs": [
    {
     "name": "stdout",
     "output_type": "stream",
     "text": [
      "Iteration 1, Train set - loss: 0.792 | Test set - Loss: 0.732\n",
      "Iteration 2, Train set - loss: 0.745 | Test set - Loss: 0.695\n",
      "Iteration 3, Train set - loss: 0.708 | Test set - Loss: 0.665\n",
      "Iteration 4, Train set - loss: 0.679 | Test set - Loss: 0.641\n",
      "Iteration 5, Train set - loss: 0.655 | Test set - Loss: 0.622\n",
      "Iteration 6, Train set - loss: 0.634 | Test set - Loss: 0.605\n",
      "Iteration 7, Train set - loss: 0.617 | Test set - Loss: 0.591\n",
      "Iteration 8, Train set - loss: 0.601 | Test set - Loss: 0.578\n",
      "Iteration 9, Train set - loss: 0.588 | Test set - Loss: 0.567\n",
      "Iteration 10, Train set - loss: 0.576 | Test set - Loss: 0.557\n",
      "Iteration 11, Train set - loss: 0.565 | Test set - Loss: 0.549\n",
      "Iteration 12, Train set - loss: 0.555 | Test set - Loss: 0.541\n",
      "Iteration 13, Train set - loss: 0.546 | Test set - Loss: 0.533\n",
      "Iteration 14, Train set - loss: 0.538 | Test set - Loss: 0.527\n",
      "Iteration 15, Train set - loss: 0.531 | Test set - Loss: 0.52\n",
      "Iteration 16, Train set - loss: 0.523 | Test set - Loss: 0.515\n",
      "Iteration 17, Train set - loss: 0.517 | Test set - Loss: 0.509\n",
      "Iteration 18, Train set - loss: 0.511 | Test set - Loss: 0.504\n",
      "Iteration 19, Train set - loss: 0.505 | Test set - Loss: 0.5\n",
      "Iteration 20, Train set - loss: 0.5 | Test set - Loss: 0.495\n",
      "Iteration 21, Train set - loss: 0.495 | Test set - Loss: 0.491\n",
      "Iteration 22, Train set - loss: 0.49 | Test set - Loss: 0.487\n",
      "Iteration 23, Train set - loss: 0.485 | Test set - Loss: 0.484\n",
      "Iteration 24, Train set - loss: 0.481 | Test set - Loss: 0.48\n",
      "Iteration 25, Train set - loss: 0.477 | Test set - Loss: 0.477\n",
      "Iteration 26, Train set - loss: 0.473 | Test set - Loss: 0.474\n",
      "Iteration 27, Train set - loss: 0.469 | Test set - Loss: 0.471\n",
      "Iteration 28, Train set - loss: 0.465 | Test set - Loss: 0.468\n",
      "Iteration 29, Train set - loss: 0.462 | Test set - Loss: 0.466\n",
      "Iteration 30, Train set - loss: 0.459 | Test set - Loss: 0.463\n",
      "Iteration 31, Train set - loss: 0.455 | Test set - Loss: 0.46\n",
      "Iteration 32, Train set - loss: 0.452 | Test set - Loss: 0.458\n",
      "Iteration 33, Train set - loss: 0.449 | Test set - Loss: 0.456\n",
      "Iteration 34, Train set - loss: 0.447 | Test set - Loss: 0.454\n",
      "Iteration 35, Train set - loss: 0.444 | Test set - Loss: 0.452\n",
      "Iteration 36, Train set - loss: 0.441 | Test set - Loss: 0.449\n",
      "Iteration 37, Train set - loss: 0.439 | Test set - Loss: 0.448\n",
      "Iteration 38, Train set - loss: 0.436 | Test set - Loss: 0.446\n",
      "Iteration 39, Train set - loss: 0.434 | Test set - Loss: 0.444\n",
      "Iteration 40, Train set - loss: 0.432 | Test set - Loss: 0.442\n"
     ]
    }
   ],
   "source": [
    "for epoch in range(1, n_iterations + 1):\n",
    "    \n",
    "    # --- Training ----#\n",
    "    optimizer.zero_grad()                          \n",
    "    y_pred = log_reg(x_train_ts)                    \n",
    "    train_loss = F.binary_cross_entropy(y_pred, y_train_ts.float())   \n",
    "    train_loss.backward()\n",
    "    optimizer.step()                                \n",
    "    \n",
    "    \n",
    "    # ----- Evaluation metrics train ---- #\n",
    "    train_losses_log.append(np.sqrt(train_loss.item()))\n",
    "    \n",
    "    # ----- Test Prediction & Evaluation -------------#\n",
    "    y_test_pred = log_reg(x_test_ts)\n",
    "    \n",
    "    # Loss\n",
    "    test_loss = F.binary_cross_entropy(y_test_pred, y_test_ts.float())\n",
    "    test_losses_log.append(np.sqrt(test_loss.item()))\n",
    "    \n",
    "    # Print Validation criteria\n",
    "    print(f'''Iteration {epoch}, Train set - loss: {round(np.sqrt(train_loss.item()), 3)} | Test set - Loss: {round(np.sqrt(test_loss.item()), 3)}''')"
   ]
  },
  {
   "cell_type": "code",
   "execution_count": 26,
   "metadata": {},
   "outputs": [
    {
     "data": {
      "image/png": "[encoded data removed]",
      "text/plain": [
       "<Figure size 640x480 with 1 Axes>"
      ]
     },
     "metadata": {},
     "output_type": "display_data"
    }
   ],
   "source": [
    "plt.plot(train_losses_log, label=\"Training\")\n",
    "plt.plot(test_losses_log, c='blue', label=\"Test\")\n",
    "plt.title(\"RMSE-Loss of Training\")\n",
    "plt.xlabel(\"Iteration\")\n",
    "plt.ylabel(\"RMSE\")\n",
    "plt.legend()\n",
    "plt.show()"
   ]
  },
  {
   "cell_type": "code",
   "execution_count": 27,
   "metadata": {},
   "outputs": [
    {
     "name": "stdout",
     "output_type": "stream",
     "text": [
      "Accuracy: 0.42105263471603394\n"
     ]
    }
   ],
   "source": [
    "accuracy = (y_test_ts == y_test_pred.argmax(1).view(-1,1)).sum().float() / float(y_test_ts.size(0))\n",
    "print(f\"Accuracy: {accuracy.item()}\")\n"
   ]
  },
  {
   "cell_type": "markdown",
   "metadata": {},
   "source": [
    "<font color='red'>\n",
    "Anmerkungen zu Aufgabe 3.3:\n",
    "\n",
    "* Sie müssen nicht die Wurzel aus dem Fehler nehmen.\n",
    "* Das Modell ist noch nicht konvergiert. Evtl. Lernrate erhöhen?\n",
    "\n",
    "</font>\n"
   ]
  }
 ],
 "metadata": {
  "kernelspec": {
   "display_name": "Python 3",
   "language": "python",
   "name": "python3"
  },
  "language_info": {
   "codemirror_mode": {
    "name": "ipython",
    "version": 3
   },
   "file_extension": ".py",
   "mimetype": "text/x-python",
   "name": "python",
   "nbconvert_exporter": "python",
   "pygments_lexer": "ipython3",
   "version": "3.12.0"
  }
 },
 "nbformat": 4,
 "nbformat_minor": 4
}
