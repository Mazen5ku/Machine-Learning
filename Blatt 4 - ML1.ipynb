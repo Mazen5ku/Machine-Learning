{
 "cells": [
  {
   "cell_type": "markdown",
   "metadata": {},
   "source": [
    "---"
   ]
  },
  {
   "cell_type": "markdown",
   "metadata": {},
   "source": [
    "[//]: # \"Header\"\n",
    "\n",
    "<p style=\"text-align: left;  font-size:18pt; LINE-HEIGHT:30px;\">\n",
    "    <span style=\"float: left\">\n",
    "     Technische Hochschule Ingolstadt<br>\n",
    "     Prof. Dr. Sören Gröttrup <br>\n",
    "     Laura Dietl\n",
    "    </span>\n",
    "    <span style=\"float: right;\">\n",
    "       Machine Learning 1<br>\n",
    "        <span style=\"float: right;\">WS 24/25</span>\n",
    "    </span>\n",
    "</p>"
   ]
  },
  {
   "cell_type": "markdown",
   "metadata": {},
   "source": [
    "[//]: # \"Header Aufgabenblatt\"\n",
    "<br>\n",
    "<p style=\"text-align: center;  font-size:18pt; LINE-HEIGHT:30px;\">\n",
    "     <span style=\"font-weight: bold;\">Aufgabenblatt 4</span><br>\n",
    "     Themen: Imputing, Neuronale Netze in PyTorch, Backpropagation<br>\n",
    "     Abgabetermin: 29.11.2024, 23:59 Uhr <br>\n",
    "     Punkte: 31\n",
    "</p>\n"
   ]
  },
  {
   "cell_type": "markdown",
   "metadata": {},
   "source": [
    "---"
   ]
  },
  {
   "cell_type": "markdown",
   "metadata": {},
   "source": [
    "**Namen:** Elkhan Alimatov (ela0016), Mazen Zidan (maz4669) , Hamdah Mariyam (ham2119)"
   ]
  },
  {
   "cell_type": "markdown",
   "metadata": {},
   "source": [
    "---"
   ]
  },
  {
   "cell_type": "markdown",
   "metadata": {
    "tags": []
   },
   "source": [
    "# 1. Imputing - Dealing with Missing Values - Ein Weg mit fehlenden Werten umzugehen\n",
    "\n",
    "Bei einer Variablen in einem Datensatz kann es durchaus vorkommen, dass für einige Beobachtungen die Werte nicht bekannt sind. Zum Beispiel kann es sein, dass ein Kunde in einem Online-Shop sein Profil nicht vollkommen ausfüllt, so dass die Handynummer, das Alter oder gewisse Interessen nicht bekannt sind. Die Variable Handynummer in diesem Datensatz wäre dann für den jeweiligen Kunden nicht befüllt.\n",
    "\n",
    "Einige Algorithmen des Maschinellen Lernens können mit diesen fehlenden Werten nicht umgehen. Damit man einen Algorithmus trotzdem auf einen Datensatz mit einer Variable mit fehlenden Werten anwenden kann, gibt es einige einfache Strategien.\n",
    "\n",
    "**Ignoriere die fehlenden Werte (Omission)**\n",
    "\n",
    "Die einfachste und radikalste Methode ist die fehlenden Werte für das Training zu entfernen. Dies kann man auf zwei Arten machen:\n",
    "1. Entfernen der Variable aus dem Trainingsdatensatz. Z.B. im obigen Beispiel die Variable Handynummer nicht als Input-Variable zu nehmen.\n",
    "1. Entfernen aller Zeilen im Datensatz, die einen fehlenden Wert in einer zu berücksichtigen Variable aufweisen. Z.B. im obigen Beispiel alle Kunden ohne Handynummer aus dem Tainingsdatensatz ausschließen.\n",
    "\n",
    "**Imputing**\n",
    "\n",
    "Anstatt die fehlenden Werte zu entfernen, kann man auch versuchen, diese mit \"geeigneten\" Werten aufzufüllen. Dafür gibt es mehrere einfache Methoden.\n",
    "1. _Constant Value Imputing_ Wenn der Kontext es hergibt, können alle fehlenden Werte einer Variablen mit einem Standardwert aufgefüllt werden. \n",
    "    1. Bei einer kategoriellen Variable können z.B. die fehlenden Werte mit 'unknown' oder 'other' ersetzt werden. Wenn z.B. bei einem Kunden der Wert der Variable \"Intresse an Sportartikeln\" fehlt, kann dieser die neue Ausprägung \"unknown\" erhalten.\n",
    "    1. Wenn bei einer numerischen Variablen nur positive Werte auftreten können, wie z.B. bei der Variable \"Anzahl an Käufe\", kann der fehlende Wert sinnvollerweise mit 0 ersetzt werden.\n",
    "1. _Mean/Median/Mode Imputing_ Die fehlenden Werte einer Variablen werden durch deren arithmetisches Mittel, den Median oder den Modus ersetzt. Diese repräsentiern \"typische\" Werte für die Variable.\n",
    "    1. Bei kategoriellen Variablen werden die fehlenden Werte durch die am häufigsten auftretende Ausprägung ersetzt (den Modus).\n",
    "    1. Bei numerischen Variablen werden die fehlenden Werte mit dem arithmetischen Mittel oder dem Median der anderen Ausprägungen der Variable ersetzt.\n",
    "\n",
    "Dies sind nur die einfachen und univariaten Methoden des Imputing. Weitere multivariate Imputing-Verfahren wie die Benutzung von Vorhersagemodellen werden in der Vorlesung besprochen."
   ]
  },
  {
   "cell_type": "markdown",
   "metadata": {},
   "source": [
    "## Aufgabe 1.1 (Vor- & Nachteile der Imputing-Verfahren) [6 Punkte]\n",
    "Betrachten Sie die oben genannten Omission und Imputing-Verfahren. Welche Vor- und Nachteile könnten diese Verfahren jeweils haben?"
   ]
  },
  {
   "cell_type": "markdown",
   "metadata": {
    "tags": []
   },
   "source": [
    "**Antwort zu Aufgabe 1.1**\n",
    "\n",
    "+ Constant Value Imputing\n",
    "\n",
    "   + Vorteile: Standardwerte wie unknown oder 0 sind leicht zu implementieren.\n",
    "             Die Anzahl der Beobachtungen bleibt gleich.\n",
    "             Man kann das Ganze anpassen, je nachdem, was gerade gebraucht wird.\n",
    "\n",
    "   + Nachteile: Es kann zu Verzerrungen kommen: Eingefügte Standardwerte können die Daten verfälschen.\n",
    "              Wenn man einen Standardwert oft benutzt, kann das Ergebnis ungenauer werden.\n",
    "\n",
    "\n",
    "+ Mean/Median/Mode Imputing\n",
    "\n",
    "   + Vorteile: Arithmetisches Mittel, Median und Modus repräsentieren oft gut den Gesamtdatensatz.\n",
    "             Die Methode ist flexibel, weil es anwendbar auf numerische und kategorische Variablen ist.\n",
    "             Die Berechnung ist einfach.\n",
    "\n",
    "   + Nachteile: Ersetzte Werte können die Realität nicht immer korrekt widerspiegeln.\n",
    "              Mean Imputation kann bei nicht normal verteilten Daten zu unrealistischen Werten führen.\n",
    "              Alle eingefügten Werte sind gleich, was die Streuung der Daten verfälschen kann.\n"
   ]
  },
  {
   "cell_type": "markdown",
   "metadata": {},
   "source": [
    "# 2. Neuronale Netze mit PyTorch"
   ]
  },
  {
   "cell_type": "markdown",
   "metadata": {},
   "source": [
    "### Daten\n",
    "\n",
    "Der Datensatz `gt.csv` (zu finden auf der Moodle-Seite des Praktikums (https://moodle.thi.de/course/view.php?id=6824)) ist eine etwas abgewandelte und bearbeitete Version des Datensatzes aus dem UCI Machine Learning Repository (https://archive.ics.uci.edu/ml/datasets/Gas+Turbine+CO+and+NOx+Emission+Data+Set). \n",
    "\n",
    "Der Datensatz enthält 36733 Messpunkte von je 11 Sensoren einer Gasturbine im Nordwesten der Türkei. Die einzelnen Werte sind dabei jeweils Aggregate (Summe oder Mittelwert) über eine Stunde. Die Sensordaten diesen dazu die Gasemissionender Turbine, insb. CO und NOx (NO & NO2), zu messen."
   ]
  },
  {
   "cell_type": "markdown",
   "metadata": {},
   "source": [
    "#### Initialisierung der Daten\n",
    "Hier finden Sie bereits geschriebenen Code, der die Daten einliest und in Trainings- und Testdaten splittet. __Bitte verändern Sie diesen Code nicht__, sondern fügen Ihren Code unterhalb ein."
   ]
  },
  {
   "cell_type": "code",
   "execution_count": 123,
   "metadata": {},
   "outputs": [],
   "source": [
    "\n",
    "\n",
    "import numpy as np\n",
    "import matplotlib.pyplot as plt\n",
    "import pandas as pd\n",
    "import seaborn as sns\n",
    "from sklearn.model_selection import train_test_split\n",
    "\n",
    "plt.style.use('ggplot')"
   ]
  },
  {
   "cell_type": "code",
   "execution_count": 124,
   "metadata": {},
   "outputs": [
    {
     "data": {
      "text/html": [
       "<div>\n",
       "<style scoped>\n",
       "    .dataframe tbody tr th:only-of-type {\n",
       "        vertical-align: middle;\n",
       "    }\n",
       "\n",
       "    .dataframe tbody tr th {\n",
       "        vertical-align: top;\n",
       "    }\n",
       "\n",
       "    .dataframe thead th {\n",
       "        text-align: right;\n",
       "    }\n",
       "</style>\n",
       "<table border=\"1\" class=\"dataframe\">\n",
       "  <thead>\n",
       "    <tr style=\"text-align: right;\">\n",
       "      <th></th>\n",
       "      <th>AT</th>\n",
       "      <th>AP</th>\n",
       "      <th>AH</th>\n",
       "      <th>AFDP</th>\n",
       "      <th>GTEP</th>\n",
       "      <th>TIT</th>\n",
       "      <th>TAT</th>\n",
       "      <th>TEY</th>\n",
       "      <th>CDP</th>\n",
       "      <th>CO</th>\n",
       "      <th>NOX</th>\n",
       "    </tr>\n",
       "  </thead>\n",
       "  <tbody>\n",
       "    <tr>\n",
       "      <th>0</th>\n",
       "      <td>4.5878</td>\n",
       "      <td>1018.7</td>\n",
       "      <td>83.675</td>\n",
       "      <td>3.5758</td>\n",
       "      <td>23.979</td>\n",
       "      <td>1086.2</td>\n",
       "      <td>549.83</td>\n",
       "      <td>134.67</td>\n",
       "      <td>NaN</td>\n",
       "      <td>0.32663</td>\n",
       "      <td>81.952</td>\n",
       "    </tr>\n",
       "    <tr>\n",
       "      <th>1</th>\n",
       "      <td>4.2932</td>\n",
       "      <td>1018.3</td>\n",
       "      <td>84.235</td>\n",
       "      <td>3.5709</td>\n",
       "      <td>23.951</td>\n",
       "      <td>1086.1</td>\n",
       "      <td>NaN</td>\n",
       "      <td>134.67</td>\n",
       "      <td>11.892</td>\n",
       "      <td>0.44784</td>\n",
       "      <td>82.377</td>\n",
       "    </tr>\n",
       "    <tr>\n",
       "      <th>2</th>\n",
       "      <td>3.9045</td>\n",
       "      <td>1018.4</td>\n",
       "      <td>84.858</td>\n",
       "      <td>3.5828</td>\n",
       "      <td>23.990</td>\n",
       "      <td>1086.5</td>\n",
       "      <td>550.19</td>\n",
       "      <td>135.10</td>\n",
       "      <td>12.042</td>\n",
       "      <td>0.45144</td>\n",
       "      <td>83.776</td>\n",
       "    </tr>\n",
       "    <tr>\n",
       "      <th>3</th>\n",
       "      <td>3.7436</td>\n",
       "      <td>1018.3</td>\n",
       "      <td>85.434</td>\n",
       "      <td>3.5808</td>\n",
       "      <td>23.911</td>\n",
       "      <td>1086.5</td>\n",
       "      <td>550.17</td>\n",
       "      <td>135.03</td>\n",
       "      <td>11.990</td>\n",
       "      <td>0.23107</td>\n",
       "      <td>82.505</td>\n",
       "    </tr>\n",
       "    <tr>\n",
       "      <th>4</th>\n",
       "      <td>3.7516</td>\n",
       "      <td>1017.8</td>\n",
       "      <td>85.182</td>\n",
       "      <td>3.5781</td>\n",
       "      <td>23.917</td>\n",
       "      <td>1085.9</td>\n",
       "      <td>550.00</td>\n",
       "      <td>134.67</td>\n",
       "      <td>11.910</td>\n",
       "      <td>0.26747</td>\n",
       "      <td>82.028</td>\n",
       "    </tr>\n",
       "    <tr>\n",
       "      <th>...</th>\n",
       "      <td>...</td>\n",
       "      <td>...</td>\n",
       "      <td>...</td>\n",
       "      <td>...</td>\n",
       "      <td>...</td>\n",
       "      <td>...</td>\n",
       "      <td>...</td>\n",
       "      <td>...</td>\n",
       "      <td>...</td>\n",
       "      <td>...</td>\n",
       "      <td>...</td>\n",
       "    </tr>\n",
       "    <tr>\n",
       "      <th>36728</th>\n",
       "      <td>3.6268</td>\n",
       "      <td>1028.5</td>\n",
       "      <td>93.200</td>\n",
       "      <td>3.1661</td>\n",
       "      <td>19.087</td>\n",
       "      <td>1037.0</td>\n",
       "      <td>541.59</td>\n",
       "      <td>109.08</td>\n",
       "      <td>10.411</td>\n",
       "      <td>10.99300</td>\n",
       "      <td>89.172</td>\n",
       "    </tr>\n",
       "    <tr>\n",
       "      <th>36729</th>\n",
       "      <td>4.1674</td>\n",
       "      <td>1028.6</td>\n",
       "      <td>94.036</td>\n",
       "      <td>3.1923</td>\n",
       "      <td>19.016</td>\n",
       "      <td>1037.6</td>\n",
       "      <td>542.28</td>\n",
       "      <td>108.79</td>\n",
       "      <td>10.344</td>\n",
       "      <td>11.14400</td>\n",
       "      <td>88.849</td>\n",
       "    </tr>\n",
       "    <tr>\n",
       "      <th>36730</th>\n",
       "      <td>5.4820</td>\n",
       "      <td>1028.5</td>\n",
       "      <td>95.219</td>\n",
       "      <td>3.3128</td>\n",
       "      <td>18.857</td>\n",
       "      <td>1038.0</td>\n",
       "      <td>543.48</td>\n",
       "      <td>107.81</td>\n",
       "      <td>10.462</td>\n",
       "      <td>11.41400</td>\n",
       "      <td>96.147</td>\n",
       "    </tr>\n",
       "    <tr>\n",
       "      <th>36731</th>\n",
       "      <td>5.8837</td>\n",
       "      <td>1028.7</td>\n",
       "      <td>94.200</td>\n",
       "      <td>3.9831</td>\n",
       "      <td>23.563</td>\n",
       "      <td>1076.9</td>\n",
       "      <td>550.11</td>\n",
       "      <td>131.41</td>\n",
       "      <td>11.771</td>\n",
       "      <td>3.31340</td>\n",
       "      <td>64.738</td>\n",
       "    </tr>\n",
       "    <tr>\n",
       "      <th>36732</th>\n",
       "      <td>6.0392</td>\n",
       "      <td>1028.8</td>\n",
       "      <td>94.547</td>\n",
       "      <td>3.8752</td>\n",
       "      <td>22.524</td>\n",
       "      <td>1067.9</td>\n",
       "      <td>548.23</td>\n",
       "      <td>125.41</td>\n",
       "      <td>11.462</td>\n",
       "      <td>11.98100</td>\n",
       "      <td>109.240</td>\n",
       "    </tr>\n",
       "  </tbody>\n",
       "</table>\n",
       "<p>36733 rows × 11 columns</p>\n",
       "</div>"
      ],
      "text/plain": [
       "           AT      AP      AH    AFDP    GTEP     TIT     TAT     TEY     CDP  \\\n",
       "0      4.5878  1018.7  83.675  3.5758  23.979  1086.2  549.83  134.67     NaN   \n",
       "1      4.2932  1018.3  84.235  3.5709  23.951  1086.1     NaN  134.67  11.892   \n",
       "2      3.9045  1018.4  84.858  3.5828  23.990  1086.5  550.19  135.10  12.042   \n",
       "3      3.7436  1018.3  85.434  3.5808  23.911  1086.5  550.17  135.03  11.990   \n",
       "4      3.7516  1017.8  85.182  3.5781  23.917  1085.9  550.00  134.67  11.910   \n",
       "...       ...     ...     ...     ...     ...     ...     ...     ...     ...   \n",
       "36728  3.6268  1028.5  93.200  3.1661  19.087  1037.0  541.59  109.08  10.411   \n",
       "36729  4.1674  1028.6  94.036  3.1923  19.016  1037.6  542.28  108.79  10.344   \n",
       "36730  5.4820  1028.5  95.219  3.3128  18.857  1038.0  543.48  107.81  10.462   \n",
       "36731  5.8837  1028.7  94.200  3.9831  23.563  1076.9  550.11  131.41  11.771   \n",
       "36732  6.0392  1028.8  94.547  3.8752  22.524  1067.9  548.23  125.41  11.462   \n",
       "\n",
       "             CO      NOX  \n",
       "0       0.32663   81.952  \n",
       "1       0.44784   82.377  \n",
       "2       0.45144   83.776  \n",
       "3       0.23107   82.505  \n",
       "4       0.26747   82.028  \n",
       "...         ...      ...  \n",
       "36728  10.99300   89.172  \n",
       "36729  11.14400   88.849  \n",
       "36730  11.41400   96.147  \n",
       "36731   3.31340   64.738  \n",
       "36732  11.98100  109.240  \n",
       "\n",
       "[36733 rows x 11 columns]"
      ]
     },
     "execution_count": 124,
     "metadata": {},
     "output_type": "execute_result"
    }
   ],
   "source": [
    "# Load data\n",
    "file_path = \"Daten Blatt 4/gt.csv\"\n",
    "data = pd.read_csv(file_path)\n",
    "data\n"
   ]
  },
  {
   "cell_type": "code",
   "execution_count": 125,
   "metadata": {},
   "outputs": [],
   "source": [
    "# Define target and feature\n",
    "y = data.NOX\n",
    "X = data.drop(columns=[\"CO\", \"NOX\"])"
   ]
  },
  {
   "cell_type": "code",
   "execution_count": 126,
   "metadata": {},
   "outputs": [],
   "source": [
    "# Split data into training and test set\n",
    "X_train, X_test, y_train, y_test = train_test_split(X, y, test_size = 0.2, random_state=1)\n",
    "\n",
    "X_train = pd.DataFrame(X_train, columns=X.columns)\n",
    "X_test = pd.DataFrame(X_test, columns=X.columns)"
   ]
  },
  {
   "cell_type": "markdown",
   "metadata": {},
   "source": [
    "## Aufgabe 2.1 (Datenaufbereitung) [4 Punkte]\n",
    "\n",
    "Untersuchen Sie den Datensatz der Sensordaten einer Gasturbine `gt.csv`.\n",
    "\n",
    "1. Welche Variablen weisen fehlende Werte auf?\n",
    "1. Ersetzen Sie diese mittels eines sinnvollen oben genannten Imputing-Verfahrens. _Hinweis_: Sie können dafür die Funktion `SimpleImputer()` aus dem `sklearn` Paket verwenden. Informieren Sie sich vorher über deren Funktionsweise und Optionen.\n",
    "1. Was für ein Vorverarbeitungsschritt scheint noch sinnvoll zu sein? Führen Sie diesen ggf. auch durch.\n",
    "\n",
    "_Achtung_: Behalten Sie bei Ihren Datenoperationen die gegebene Aufteilung in Training- und Testdaten bei."
   ]
  },
  {
   "cell_type": "markdown",
   "metadata": {},
   "source": [
    "### Lösung Aufgabe 2.1"
   ]
  },
  {
   "cell_type": "markdown",
   "metadata": {},
   "source": [
    "1. Die variablen CDP und TAT haben fehlende werte"
   ]
  },
  {
   "cell_type": "code",
   "execution_count": 127,
   "metadata": {},
   "outputs": [
    {
     "name": "stdout",
     "output_type": "stream",
     "text": [
      "Missing Values:  AT         0\n",
      "AP         0\n",
      "AH         0\n",
      "AFDP       0\n",
      "GTEP       0\n",
      "TIT        0\n",
      "TAT     6605\n",
      "TEY        0\n",
      "CDP     4426\n",
      "CO         0\n",
      "NOX        0\n",
      "dtype: int64\n"
     ]
    }
   ],
   "source": [
    "missing_values = data.isnull().sum()\n",
    "\n",
    "print(\"Missing Values: \", missing_values)"
   ]
  },
  {
   "cell_type": "code",
   "execution_count": 128,
   "metadata": {},
   "outputs": [
    {
     "data": {
      "text/plain": [
       "AT      0\n",
       "AP      0\n",
       "AH      0\n",
       "AFDP    0\n",
       "GTEP    0\n",
       "TIT     0\n",
       "TAT     0\n",
       "TEY     0\n",
       "CDP     0\n",
       "CO      0\n",
       "NOX     0\n",
       "dtype: int64"
      ]
     },
     "execution_count": 128,
     "metadata": {},
     "output_type": "execute_result"
    }
   ],
   "source": [
    "# Teil 2\n",
    "from sklearn.impute import SimpleImputer\n",
    "\n",
    "# Create imputers for missing values\n",
    "mean_imputer = SimpleImputer(strategy='mean')\n",
    "\n",
    "# Apply imputation for the missing columns (TAT and CDP)\n",
    "data['TAT'] = mean_imputer.fit_transform(data[['TAT']])\n",
    "data['CDP'] = mean_imputer.fit_transform(data[['CDP']])\n",
    "\n",
    "# Verify if missing values are filled\n",
    "mv_after_imput = data.isnull().sum()\n",
    "\n",
    "mv_after_imput"
   ]
  },
  {
   "cell_type": "markdown",
   "metadata": {},
   "source": [
    "Die daten können auch skaliert werden"
   ]
  },
  {
   "cell_type": "code",
   "execution_count": 129,
   "metadata": {},
   "outputs": [
    {
     "data": {
      "text/html": [
       "<div>\n",
       "<style scoped>\n",
       "    .dataframe tbody tr th:only-of-type {\n",
       "        vertical-align: middle;\n",
       "    }\n",
       "\n",
       "    .dataframe tbody tr th {\n",
       "        vertical-align: top;\n",
       "    }\n",
       "\n",
       "    .dataframe thead th {\n",
       "        text-align: right;\n",
       "    }\n",
       "</style>\n",
       "<table border=\"1\" class=\"dataframe\">\n",
       "  <thead>\n",
       "    <tr style=\"text-align: right;\">\n",
       "      <th></th>\n",
       "      <th>AT</th>\n",
       "      <th>AP</th>\n",
       "      <th>AH</th>\n",
       "      <th>AFDP</th>\n",
       "      <th>GTEP</th>\n",
       "      <th>TIT</th>\n",
       "      <th>TAT</th>\n",
       "      <th>TEY</th>\n",
       "      <th>CDP</th>\n",
       "      <th>CO</th>\n",
       "      <th>NOX</th>\n",
       "    </tr>\n",
       "  </thead>\n",
       "  <tbody>\n",
       "    <tr>\n",
       "      <th>0</th>\n",
       "      <td>-1.762362</td>\n",
       "      <td>0.871052</td>\n",
       "      <td>0.401627</td>\n",
       "      <td>-0.451875</td>\n",
       "      <td>-0.377702</td>\n",
       "      <td>0.272119</td>\n",
       "      <td>0.591406</td>\n",
       "      <td>0.074502</td>\n",
       "      <td>1.743825e-15</td>\n",
       "      <td>-0.904182</td>\n",
       "      <td>1.426499</td>\n",
       "    </tr>\n",
       "    <tr>\n",
       "      <th>1</th>\n",
       "      <td>-1.801920</td>\n",
       "      <td>0.809164</td>\n",
       "      <td>0.440351</td>\n",
       "      <td>-0.458207</td>\n",
       "      <td>-0.384376</td>\n",
       "      <td>0.266417</td>\n",
       "      <td>0.000000</td>\n",
       "      <td>0.074502</td>\n",
       "      <td>-1.625139e-01</td>\n",
       "      <td>-0.850611</td>\n",
       "      <td>1.462891</td>\n",
       "    </tr>\n",
       "    <tr>\n",
       "      <th>2</th>\n",
       "      <td>-1.854113</td>\n",
       "      <td>0.824636</td>\n",
       "      <td>0.483432</td>\n",
       "      <td>-0.442831</td>\n",
       "      <td>-0.375081</td>\n",
       "      <td>0.289227</td>\n",
       "      <td>0.649445</td>\n",
       "      <td>0.102033</td>\n",
       "      <td>-1.526101e-02</td>\n",
       "      <td>-0.849020</td>\n",
       "      <td>1.582687</td>\n",
       "    </tr>\n",
       "    <tr>\n",
       "      <th>3</th>\n",
       "      <td>-1.875718</td>\n",
       "      <td>0.809164</td>\n",
       "      <td>0.523263</td>\n",
       "      <td>-0.445415</td>\n",
       "      <td>-0.393909</td>\n",
       "      <td>0.289227</td>\n",
       "      <td>0.646221</td>\n",
       "      <td>0.097551</td>\n",
       "      <td>-6.630868e-02</td>\n",
       "      <td>-0.946415</td>\n",
       "      <td>1.473852</td>\n",
       "    </tr>\n",
       "    <tr>\n",
       "      <th>4</th>\n",
       "      <td>-1.874644</td>\n",
       "      <td>0.731804</td>\n",
       "      <td>0.505837</td>\n",
       "      <td>-0.448904</td>\n",
       "      <td>-0.392479</td>\n",
       "      <td>0.255012</td>\n",
       "      <td>0.618814</td>\n",
       "      <td>0.074502</td>\n",
       "      <td>-1.448436e-01</td>\n",
       "      <td>-0.930328</td>\n",
       "      <td>1.433006</td>\n",
       "    </tr>\n",
       "  </tbody>\n",
       "</table>\n",
       "</div>"
      ],
      "text/plain": [
       "         AT        AP        AH      AFDP      GTEP       TIT       TAT  \\\n",
       "0 -1.762362  0.871052  0.401627 -0.451875 -0.377702  0.272119  0.591406   \n",
       "1 -1.801920  0.809164  0.440351 -0.458207 -0.384376  0.266417  0.000000   \n",
       "2 -1.854113  0.824636  0.483432 -0.442831 -0.375081  0.289227  0.649445   \n",
       "3 -1.875718  0.809164  0.523263 -0.445415 -0.393909  0.289227  0.646221   \n",
       "4 -1.874644  0.731804  0.505837 -0.448904 -0.392479  0.255012  0.618814   \n",
       "\n",
       "        TEY           CDP        CO       NOX  \n",
       "0  0.074502  1.743825e-15 -0.904182  1.426499  \n",
       "1  0.074502 -1.625139e-01 -0.850611  1.462891  \n",
       "2  0.102033 -1.526101e-02 -0.849020  1.582687  \n",
       "3  0.097551 -6.630868e-02 -0.946415  1.473852  \n",
       "4  0.074502 -1.448436e-01 -0.930328  1.433006  "
      ]
     },
     "execution_count": 129,
     "metadata": {},
     "output_type": "execute_result"
    }
   ],
   "source": [
    "# Teil 3\n",
    "from sklearn.preprocessing import StandardScaler\n",
    "\n",
    "# Standardize the data\n",
    "scaler = StandardScaler()\n",
    "standardized_data = pd.DataFrame(scaler.fit_transform(data), columns=data.columns)\n",
    "\n",
    "# Display the first few rows of the standardized dataset to verify\n",
    "standardized_data.head()"
   ]
  },
  {
   "cell_type": "markdown",
   "metadata": {},
   "source": [
    "## Aufgabe 2.2 (Training in PyTorch) [12 Punkte]\n",
    "Erstellen Sie ein Feedforward Neuronales Netz auf dem in der vorherigen Aufgabe 2.1 aufbereiteten Datensatz mittels PyTorch, welches basierend auf den anderen Sensordaten die NOx-Emission vorhersagen kann. Benutzen Sie dabei den L2-Loss als Kostenfunktion. Welchen RMSE erzielt Ihr trainiertes Neuronales Netz, wenn Sie dies auf die Testdaten (`X_test, y_test`) anwenden?\n",
    "\n",
    "In dieser Aufgabe gibt es keinerlei weitere Vorgabe an das zu implementierende Modell. Sie sind in der Struktur des Netzes und dem Vorgehen frei. Um aber die volle Punkzahl zu erhalten, müssen Sie ein sinnvolles Netz trainieren, d.h. die Optimierung mittels Gradient Descent konvergiert, kein Overfitting etc.. Versuchen Sie auch den RMSE so klein wie möglich zu bekommen.\n",
    "\n",
    "_Hinweis_: Anstatt Ihre aufbereiteten Daten zu nehmen, können Sie auch schon vorverarbeitete Daten einlesen durch den Befehl `data = torch.load(\"Daten Blatt 4/gt_prepared\")`\n",
    "Dieser liest ein Dictionary ein, in welchem Sie Tensoren der Trainings- und Testdaten finden. Der Befehl `data.keys()` zeigt Ihnen die Key-Namen. "
   ]
  },
  {
   "cell_type": "markdown",
   "metadata": {},
   "source": [
    "### Lösung der Aufgabe 2.2"
   ]
  },
  {
   "cell_type": "code",
   "execution_count": 130,
   "metadata": {},
   "outputs": [],
   "source": [
    "# Load packages\n",
    "import torch\n",
    "from torch import nn\n",
    "import torch.nn as net\n",
    "import torch.nn.functional as F\n",
    "import torch.optim as optim"
   ]
  },
  {
   "cell_type": "code",
   "execution_count": 131,
   "metadata": {},
   "outputs": [
    {
     "name": "stdout",
     "output_type": "stream",
     "text": [
      "dict_keys(['train_data', 'train_target', 'test_data', 'test_target'])\n",
      "torch.Size([7347, 1])\n"
     ]
    }
   ],
   "source": [
    "data = torch.load(\"Daten Blatt 4/gt_prepared\")\n",
    "print(data.keys())\n",
    "X_train_prep = data[\"train_data\"]\n",
    "y_train_prep = data[\"train_target\"].view(-1, 1)\n",
    "X_test_prep = data[\"test_data\"]\n",
    "y_test_prep = data[\"test_target\"].view(-1, 1)\n",
    "print(y_test_prep.shape)\n",
    "\n"
   ]
  },
  {
   "cell_type": "code",
   "execution_count": 146,
   "metadata": {},
   "outputs": [
    {
     "data": {
      "text/plain": [
       "<torch._C.Generator at 0x2b1c2d98570>"
      ]
     },
     "execution_count": 146,
     "metadata": {},
     "output_type": "execute_result"
    }
   ],
   "source": [
    "# Define Hyper-Parameters\n",
    "n_iterations = 100\n",
    "\n",
    "\n",
    "random_seed = 70\n",
    "torch.manual_seed(random_seed)"
   ]
  },
  {
   "cell_type": "code",
   "execution_count": 147,
   "metadata": {},
   "outputs": [],
   "source": [
    "class NeuralNetwork(nn.Module):\n",
    "    def __init__(self):\n",
    "        super().__init__()\n",
    "        self.flatten = nn.Flatten()\n",
    "        self.linear_relu_stack = nn.Sequential(\n",
    "            nn.Linear(9, 64),\n",
    "            nn.ReLU(),\n",
    "            nn.Linear(64, 32),\n",
    "            nn.ReLU(),\n",
    "            nn.Linear(32, 1),\n",
    "            nn.ReLU(),    \n",
    "        )\n",
    "\n",
    "    def forward(self, x):\n",
    "        x = self.flatten(x)\n",
    "        logits = self.linear_relu_stack(x)\n",
    "        return logits"
   ]
  },
  {
   "cell_type": "code",
   "execution_count": 148,
   "metadata": {},
   "outputs": [],
   "source": [
    "model = NeuralNetwork()\n",
    "optimizer = optim.SGD(model.parameters(), lr=0.001)"
   ]
  },
  {
   "cell_type": "code",
   "execution_count": 149,
   "metadata": {},
   "outputs": [],
   "source": [
    "train_losses = []\n",
    "test_losses = []"
   ]
  },
  {
   "cell_type": "code",
   "execution_count": 150,
   "metadata": {},
   "outputs": [
    {
     "name": "stdout",
     "output_type": "stream",
     "text": [
      "Iteration 1, Train set - loss: 66.091 | Test set - Loss: 65.696\n",
      "Iteration 2, Train set - loss: 65.759 | Test set - Loss: 65.268\n",
      "Iteration 3, Train set - loss: 65.33 | Test set - Loss: 64.644\n",
      "Iteration 4, Train set - loss: 64.704 | Test set - Loss: 63.656\n",
      "Iteration 5, Train set - loss: 63.711 | Test set - Loss: 61.988\n",
      "Iteration 6, Train set - loss: 62.036 | Test set - Loss: 59.046\n",
      "Iteration 7, Train set - loss: 59.078 | Test set - Loss: 53.671\n",
      "Iteration 8, Train set - loss: 53.674 | Test set - Loss: 43.925\n",
      "Iteration 9, Train set - loss: 43.869 | Test set - Loss: 29.38\n",
      "Iteration 10, Train set - loss: 29.233 | Test set - Loss: 20.501\n",
      "Iteration 11, Train set - loss: 20.381 | Test set - Loss: 17.609\n",
      "Iteration 12, Train set - loss: 17.532 | Test set - Loss: 15.396\n",
      "Iteration 13, Train set - loss: 15.329 | Test set - Loss: 13.699\n",
      "Iteration 14, Train set - loss: 13.64 | Test set - Loss: 12.454\n",
      "Iteration 15, Train set - loss: 12.402 | Test set - Loss: 11.577\n",
      "Iteration 16, Train set - loss: 11.531 | Test set - Loss: 10.974\n",
      "Iteration 17, Train set - loss: 10.932 | Test set - Loss: 10.557\n",
      "Iteration 18, Train set - loss: 10.519 | Test set - Loss: 10.262\n",
      "Iteration 19, Train set - loss: 10.226 | Test set - Loss: 10.042\n",
      "Iteration 20, Train set - loss: 10.008 | Test set - Loss: 9.868\n",
      "Iteration 21, Train set - loss: 9.835 | Test set - Loss: 9.722\n",
      "Iteration 22, Train set - loss: 9.689 | Test set - Loss: 9.595\n",
      "Iteration 23, Train set - loss: 9.562 | Test set - Loss: 9.481\n",
      "Iteration 24, Train set - loss: 9.447 | Test set - Loss: 9.377\n",
      "Iteration 25, Train set - loss: 9.341 | Test set - Loss: 9.28\n",
      "Iteration 26, Train set - loss: 9.243 | Test set - Loss: 9.19\n",
      "Iteration 27, Train set - loss: 9.151 | Test set - Loss: 9.106\n",
      "Iteration 28, Train set - loss: 9.065 | Test set - Loss: 9.028\n",
      "Iteration 29, Train set - loss: 8.984 | Test set - Loss: 8.953\n",
      "Iteration 30, Train set - loss: 8.908 | Test set - Loss: 8.883\n",
      "Iteration 31, Train set - loss: 8.835 | Test set - Loss: 8.816\n",
      "Iteration 32, Train set - loss: 8.766 | Test set - Loss: 8.753\n",
      "Iteration 33, Train set - loss: 8.701 | Test set - Loss: 8.693\n",
      "Iteration 34, Train set - loss: 8.639 | Test set - Loss: 8.636\n",
      "Iteration 35, Train set - loss: 8.58 | Test set - Loss: 8.582\n",
      "Iteration 36, Train set - loss: 8.524 | Test set - Loss: 8.53\n",
      "Iteration 37, Train set - loss: 8.47 | Test set - Loss: 8.481\n",
      "Iteration 38, Train set - loss: 8.419 | Test set - Loss: 8.434\n",
      "Iteration 39, Train set - loss: 8.371 | Test set - Loss: 8.389\n",
      "Iteration 40, Train set - loss: 8.325 | Test set - Loss: 8.347\n",
      "Iteration 41, Train set - loss: 8.281 | Test set - Loss: 8.306\n",
      "Iteration 42, Train set - loss: 8.239 | Test set - Loss: 8.267\n",
      "Iteration 43, Train set - loss: 8.198 | Test set - Loss: 8.23\n",
      "Iteration 44, Train set - loss: 8.159 | Test set - Loss: 8.194\n",
      "Iteration 45, Train set - loss: 8.122 | Test set - Loss: 8.16\n",
      "Iteration 46, Train set - loss: 8.086 | Test set - Loss: 8.127\n",
      "Iteration 47, Train set - loss: 8.052 | Test set - Loss: 8.095\n",
      "Iteration 48, Train set - loss: 8.019 | Test set - Loss: 8.064\n",
      "Iteration 49, Train set - loss: 7.987 | Test set - Loss: 8.035\n",
      "Iteration 50, Train set - loss: 7.956 | Test set - Loss: 8.007\n",
      "Iteration 51, Train set - loss: 7.927 | Test set - Loss: 7.979\n",
      "Iteration 52, Train set - loss: 7.898 | Test set - Loss: 7.953\n",
      "Iteration 53, Train set - loss: 7.87 | Test set - Loss: 7.927\n",
      "Iteration 54, Train set - loss: 7.844 | Test set - Loss: 7.902\n",
      "Iteration 55, Train set - loss: 7.818 | Test set - Loss: 7.878\n",
      "Iteration 56, Train set - loss: 7.793 | Test set - Loss: 7.855\n",
      "Iteration 57, Train set - loss: 7.769 | Test set - Loss: 7.833\n",
      "Iteration 58, Train set - loss: 7.745 | Test set - Loss: 7.811\n",
      "Iteration 59, Train set - loss: 7.723 | Test set - Loss: 7.79\n",
      "Iteration 60, Train set - loss: 7.701 | Test set - Loss: 7.769\n",
      "Iteration 61, Train set - loss: 7.679 | Test set - Loss: 7.749\n",
      "Iteration 62, Train set - loss: 7.659 | Test set - Loss: 7.73\n",
      "Iteration 63, Train set - loss: 7.639 | Test set - Loss: 7.712\n",
      "Iteration 64, Train set - loss: 7.619 | Test set - Loss: 7.693\n",
      "Iteration 65, Train set - loss: 7.6 | Test set - Loss: 7.676\n",
      "Iteration 66, Train set - loss: 7.582 | Test set - Loss: 7.659\n",
      "Iteration 67, Train set - loss: 7.564 | Test set - Loss: 7.642\n",
      "Iteration 68, Train set - loss: 7.546 | Test set - Loss: 7.626\n",
      "Iteration 69, Train set - loss: 7.529 | Test set - Loss: 7.61\n",
      "Iteration 70, Train set - loss: 7.513 | Test set - Loss: 7.595\n",
      "Iteration 71, Train set - loss: 7.497 | Test set - Loss: 7.58\n",
      "Iteration 72, Train set - loss: 7.481 | Test set - Loss: 7.565\n",
      "Iteration 73, Train set - loss: 7.466 | Test set - Loss: 7.551\n",
      "Iteration 74, Train set - loss: 7.451 | Test set - Loss: 7.537\n",
      "Iteration 75, Train set - loss: 7.436 | Test set - Loss: 7.524\n",
      "Iteration 76, Train set - loss: 7.422 | Test set - Loss: 7.51\n",
      "Iteration 77, Train set - loss: 7.408 | Test set - Loss: 7.497\n",
      "Iteration 78, Train set - loss: 7.395 | Test set - Loss: 7.485\n",
      "Iteration 79, Train set - loss: 7.381 | Test set - Loss: 7.473\n",
      "Iteration 80, Train set - loss: 7.369 | Test set - Loss: 7.461\n",
      "Iteration 81, Train set - loss: 7.356 | Test set - Loss: 7.449\n",
      "Iteration 82, Train set - loss: 7.344 | Test set - Loss: 7.437\n",
      "Iteration 83, Train set - loss: 7.331 | Test set - Loss: 7.426\n",
      "Iteration 84, Train set - loss: 7.32 | Test set - Loss: 7.415\n",
      "Iteration 85, Train set - loss: 7.308 | Test set - Loss: 7.404\n",
      "Iteration 86, Train set - loss: 7.297 | Test set - Loss: 7.394\n",
      "Iteration 87, Train set - loss: 7.286 | Test set - Loss: 7.384\n",
      "Iteration 88, Train set - loss: 7.275 | Test set - Loss: 7.373\n",
      "Iteration 89, Train set - loss: 7.264 | Test set - Loss: 7.364\n",
      "Iteration 90, Train set - loss: 7.254 | Test set - Loss: 7.354\n",
      "Iteration 91, Train set - loss: 7.244 | Test set - Loss: 7.345\n",
      "Iteration 92, Train set - loss: 7.234 | Test set - Loss: 7.335\n",
      "Iteration 93, Train set - loss: 7.224 | Test set - Loss: 7.326\n",
      "Iteration 94, Train set - loss: 7.215 | Test set - Loss: 7.317\n",
      "Iteration 95, Train set - loss: 7.205 | Test set - Loss: 7.309\n",
      "Iteration 96, Train set - loss: 7.196 | Test set - Loss: 7.3\n",
      "Iteration 97, Train set - loss: 7.187 | Test set - Loss: 7.292\n",
      "Iteration 98, Train set - loss: 7.178 | Test set - Loss: 7.283\n",
      "Iteration 99, Train set - loss: 7.17 | Test set - Loss: 7.275\n",
      "Iteration 100, Train set - loss: 7.161 | Test set - Loss: 7.267\n"
     ]
    }
   ],
   "source": [
    "for epoch in range(1, n_iterations + 1):\n",
    "    \n",
    "    # --- Training ----#\n",
    "    model.train()\n",
    "    optimizer.zero_grad()                          \n",
    "    y_pred = model(X_train_prep)                  \n",
    "    train_loss = F.mse_loss(y_pred, y_train_prep.float())\n",
    "    train_loss.backward()\n",
    "    optimizer.step()                                \n",
    "    \n",
    "    \n",
    "    # ----- Evaluation metrics train ---- #\n",
    "    train_losses.append(np.sqrt(train_loss.item()))\n",
    "    \n",
    "    # ----- Test Prediction & Evaluation -------------#\n",
    "    model.eval()\n",
    "    y_test_pred = model(X_test_prep)\n",
    "    \n",
    "    # Loss\n",
    "    test_loss = F.mse_loss(y_test_pred, y_test_prep.float())\n",
    "    test_losses.append(np.sqrt(test_loss.item()))\n",
    "    \n",
    "    # Print Validation criteria\n",
    "    print(f'''Iteration {epoch}, Train set - loss: {round(np.sqrt(train_loss.item()), 3)} | Test set - Loss: {round(np.sqrt(test_loss.item()), 3)}''')"
   ]
  },
  {
   "cell_type": "code",
   "execution_count": 151,
   "metadata": {},
   "outputs": [
    {
     "name": "stdout",
     "output_type": "stream",
     "text": [
      "Final RMSE on test set: 7.26734611881089\n"
     ]
    }
   ],
   "source": [
    "final_rmse = np.sqrt(test_loss.item())\n",
    "print(f'Final RMSE on test set: {final_rmse}')"
   ]
  },
  {
   "cell_type": "code",
   "execution_count": 152,
   "metadata": {},
   "outputs": [
    {
     "data": {
      "image/png": "[encoded data removed]",
      "text/plain": [
       "<Figure size 640x480 with 1 Axes>"
      ]
     },
     "metadata": {},
     "output_type": "display_data"
    }
   ],
   "source": [
    "plt.plot(train_losses, label=\"Train\")\n",
    "plt.plot(test_losses, label=\"Test\")\n",
    "plt.legend()\n",
    "plt.show()"
   ]
  },
  {
   "cell_type": "markdown",
   "metadata": {},
   "source": [
    "# 3. Parameter eines Neuronalen Netzes"
   ]
  },
  {
   "cell_type": "markdown",
   "metadata": {},
   "source": [
    "## Aufgabe 3.1 [3 Punkte]\n",
    "Gegeben ist das in PyTorch definierte Neuronale Netze\n",
    "   \n",
    "![fc_nn](Bilder/fc_nn.png)\n",
    "\n",
    "Bestimmen Sie  die Anzahl zu optimierender Parameter."
   ]
  },
  {
   "cell_type": "markdown",
   "metadata": {},
   "source": [
    "### Antwort zu Aufgabe 3.1\n",
    "\n",
    "Optimierungsparameter eines Netzes sind Gewichte und Bias.\n",
    "Das Netzwerk besteht aus 4 \"Layers\": Input, 2 Hidden und Output Layers.\n",
    "\n",
    "1. Hidden Layer besteht aus 8 Neuronen und jede Neuron hat 9 Input Data.\n",
    "   Gewichte: 9x8 = 72\n",
    "   Bias: 8\n",
    "   Anzahl der Parameter: 72 + 8 = 80\n",
    "2. Hidden Layer besteht aus 6 Neuronen und jede Neuron hat 8 Input Data.\n",
    "   Gewichte: 8x6 = 48\n",
    "   Bias: 6\n",
    "   Anzahl der Parameter: 48 + 6 = 54\n",
    "\n",
    "3. Output Layer besteht aus einem Neuron und hat 6 Input Data.\n",
    "   Gewichte: 6x1 = 6\n",
    "   Bias: 1\n",
    "   Anzahl der Parameter: 6 + 1 = 7\n",
    "\n",
    "Anzahl der Parameter des Netzes: 80 + 54 + 7 = 141.\n",
    "Das neuronale Netzwerk hat insgesamt 141 zu optimierende Parameter.\n"
   ]
  },
  {
   "cell_type": "markdown",
   "metadata": {},
   "source": [
    "# 4. Backpropagation"
   ]
  },
  {
   "cell_type": "markdown",
   "metadata": {},
   "source": [
    "## Aufgabe 4.1 [6 Punkte]\n",
    "Gegeben ist folgendes Neuronale Netze\n",
    "   \n",
    "![fc_nn](Bilder/NN_backpropagation.png)\n",
    "\n",
    "mit folgenden Gewichtsmatrizen \n",
    "\n",
    "$$W^{(1)}=\\left(\\begin{array}{cc} \n",
    "1 & 1\\\\ \n",
    "2 & -2\n",
    "\\end{array}\\right)\n",
    "\\quad\\text{und}\\quad\n",
    "W^{(2)}=\\left(\\begin{array}{c} \n",
    "1\\\\ \n",
    "-1\n",
    "\\end{array}\\right) $$\n",
    "\n",
    "und Biases\n",
    "\n",
    "$$b^{(1)}=\\left(\\begin{array}{c} \n",
    "-1\\\\ \n",
    "0\n",
    "\\end{array}\\right)\n",
    "\\quad\\text{und}\\quad\n",
    "b^{(2)}= -4$$\n",
    "\n",
    "Die Aktivierungsfunktionen sind folgende:\n",
    "* Hidden Layer: ReLU\n",
    "* Output Layer: Identität\n",
    "\n",
    "Als Verlustfunktion wird der L2-Loss genommen\n",
    "$$L(y,a)=\\frac12(y-a)^2$$\n",
    "\n",
    "__Aufgabe:__\n",
    "1. Führen Sie ein Update der Parameter mittels Backpropagation durch für den Datenpunkt\n",
    "$$x=\\left(\\begin{array}{c} \n",
    "1\\\\ \n",
    "1 \n",
    "\\end{array}\\right) $$\n",
    "mit wahrem Zielwert \n",
    "$$ y= -1$$\n",
    "und der Lernrate $\\alpha=0.1$ durch.\n",
    "1. Wie groß ist der neue Verlust nach dem Parameterupdate? Vergleichen Sie das mit dem Verlust vor durchführung des Updates der Parameter.\n"
   ]
  },
  {
   "cell_type": "markdown",
   "metadata": {
    "vscode": {
     "languageId": "latex"
    }
   },
   "source": [
    "# Forward\n",
    "$$\\ z_1^{(1)} = 2 \\$$\n",
    "$$\\ z_2^{(1)} = -1 \\$$\n",
    "$$\\ a_1^{(1)} = 2 \\$$\n",
    "$$\\ a_2^{(1)} = 0 \\$$\n",
    "$$\\ z_1^{(2)} = -1 \\$$\n",
    "$$ \\hat y = -2 $$\n",
    "$$\\text { loss }=\\frac{1}{2}(y-\\hat{y})^2=\\frac{1}{2}(-1+2)^2=0,5$$\n",
    "# Ableitungen\n",
    "$$\\begin{aligned}  \\frac{d}{d L} L(y, \\hat{y}) =-2+1=-1\n",
    "\\end{aligned}$$\n",
    "$$\\frac{d}{d z_0} \\hat{y}=1$$\n",
    "$$\\frac{d}{d w_{11}^{(2)}} z^{(2)}=a_1^{(1)}=2$$\n",
    "$$\\frac{d}{d w_{21}^{(2)}} z^{(2)}=a_2^{(1)}=0$$\n",
    "$$\\frac{d}{d b_{1}^{(2)}} z^{(2)}=1$$\n",
    "$$\\frac{d}{d a_{1}^{(1)}} z^{(2)}=w_{22}^{(2)}=1$$\n",
    "$$\\frac{d}{d a_{2}^{(1)}} z^{(2)}=w_{21}^{(2)}=-1$$\n",
    "$$\\frac{d}{d z_{1}^{(1)}} a_1^{(1)}=1$$\n",
    "$$\\frac{d}{d w_{11}^{(1)}} z_1^{(1)}=x_1=1$$\n",
    "$$\\frac{d}{d w_{21}^{(1)}} z_1^{(1)}=x_2=1$$\n",
    "$$\\frac{d}{d b_{2}^{(1)}} z^{(1)}=1$$\n",
    "$$\\frac{d}{d z_{2}^{(1)}} a_2^{(1)}=1$$\n",
    "$$\\frac{d}{d w_{12}^{(1)}} z_2^{(1)}=x_1=1$$\n",
    "$$\\frac{d}{d w_{22}^{(1)}} z_2^{(1)}=x_2=1$$\n",
    "# Updates\n",
    "$$\\ b_{(1, new)}^{(2)} = b_1^{(2)} - \\alpha \\frac{d}{d b_{1}^{(2)}}  L = -4 - 0.1*-1 = -3.9\\$$\n",
    "$$\\ b_{(1, new)}^{(1)} = -0.9 $$\n",
    "$$\\ b_{(2, new)}^{(1)} = -0.1 $$\n",
    "$$\\ w_{(11, new)}^{(2)} = 1.2 $$\n",
    "$$\\ w_{(21, new)}^{(2)} = -1 $$\n",
    "$$\\ w_{(11, new)}^{(1)} = 1.1 $$\n",
    "$$\\ w_{(21, new)}^{(1)} = 2.1 $$\n",
    "$$\\ w_{(12, new)}^{(1)} = 0.9 $$\n",
    "$$\\ w_{(22, new)}^{(1)} = -2.1 $$\n",
    "# forward with updated parameters\n",
    "$$\\ z_{(1, new)}^{(1)} = 2.3 \\$$\n",
    "$$\\ z_{(2, new)}^{(1)} = -1.3 \\$$\n",
    "$$\\ a_{(1, new)}^{(1)} = 2.3 \\$$\n",
    "$$\\ a_{(2, new)}^{(1)} = 0 \\$$\n",
    "$$\\ z_{(1, new)}^{(2)} = -1.14 \\$$\n",
    "$$ \\hat y_{(new)} = -1.14 $$\n",
    "$$\\text { loss }=\\frac{1}{2}(y-\\hat{y_{(new)}})^2=\\frac{1}{2}(-1+1.14)^2=0,0098$$\n",
    "\n",
    "\n",
    "\n",
    "\n"
   ]
  },
  {
   "cell_type": "markdown",
   "metadata": {},
   "source": []
  }
 ],
 "metadata": {
  "kernelspec": {
   "display_name": "Python 3",
   "language": "python",
   "name": "python3"
  },
  "language_info": {
   "codemirror_mode": {
    "name": "ipython",
    "version": 3
   },
   "file_extension": ".py",
   "mimetype": "text/x-python",
   "name": "python",
   "nbconvert_exporter": "python",
   "pygments_lexer": "ipython3",
   "version": "3.12.0"
  }
 },
 "nbformat": 4,
 "nbformat_minor": 4
}
